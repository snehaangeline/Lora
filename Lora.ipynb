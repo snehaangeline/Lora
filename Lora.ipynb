{
  "nbformat": 4,
  "nbformat_minor": 0,
  "metadata": {
    "colab": {
      "provenance": [],
      "include_colab_link": true
    },
    "kernelspec": {
      "name": "python3",
      "display_name": "Python 3"
    },
    "language_info": {
      "name": "python"
    }
  },
  "cells": [
    {
      "cell_type": "markdown",
      "metadata": {
        "id": "view-in-github",
        "colab_type": "text"
      },
      "source": [
        "<a href=\"https://colab.research.google.com/github/snehaangeline/Lora/blob/main/Lora.ipynb\" target=\"_parent\"><img src=\"https://colab.research.google.com/assets/colab-badge.svg\" alt=\"Open In Colab\"/></a>"
      ]
    },
    {
      "cell_type": "code",
      "execution_count": null,
      "metadata": {
        "id": "ExxQc6HyiA0q"
      },
      "outputs": [],
      "source": [
        "import numpy as np\n",
        "import pandas as pd\n",
        "import matplotlib.pyplot as plt\n",
        "import seaborn as sns\n",
        "%matplotlib inline\n",
        "from sklearn.decomposition import PCA"
      ]
    },
    {
      "cell_type": "code",
      "source": [
        "!pip install pandas==1.1.2"
      ],
      "metadata": {
        "colab": {
          "base_uri": "https://localhost:8080/",
          "height": 366
        },
        "id": "a6BQ-IzRME-1",
        "outputId": "5a9c4113-5668-42c3-84f1-4554977d2fe9"
      },
      "execution_count": null,
      "outputs": [
        {
          "output_type": "stream",
          "name": "stdout",
          "text": [
            "Looking in indexes: https://pypi.org/simple, https://us-python.pkg.dev/colab-wheels/public/simple/\n",
            "Collecting pandas==1.1.2\n",
            "  Downloading pandas-1.1.2-cp37-cp37m-manylinux1_x86_64.whl (10.5 MB)\n",
            "\u001b[K     |████████████████████████████████| 10.5 MB 2.0 MB/s \n",
            "\u001b[?25hRequirement already satisfied: numpy>=1.15.4 in /usr/local/lib/python3.7/dist-packages (from pandas==1.1.2) (1.21.6)\n",
            "Requirement already satisfied: python-dateutil>=2.7.3 in /usr/local/lib/python3.7/dist-packages (from pandas==1.1.2) (2.8.2)\n",
            "Requirement already satisfied: pytz>=2017.2 in /usr/local/lib/python3.7/dist-packages (from pandas==1.1.2) (2022.2.1)\n",
            "Requirement already satisfied: six>=1.5 in /usr/local/lib/python3.7/dist-packages (from python-dateutil>=2.7.3->pandas==1.1.2) (1.15.0)\n",
            "Installing collected packages: pandas\n",
            "  Attempting uninstall: pandas\n",
            "    Found existing installation: pandas 1.3.5\n",
            "    Uninstalling pandas-1.3.5:\n",
            "      Successfully uninstalled pandas-1.3.5\n",
            "Successfully installed pandas-1.1.2\n"
          ]
        },
        {
          "output_type": "display_data",
          "data": {
            "application/vnd.colab-display-data+json": {
              "pip_warning": {
                "packages": [
                  "pandas"
                ]
              }
            }
          },
          "metadata": {}
        }
      ]
    },
    {
      "cell_type": "markdown",
      "source": [
        "## Data Exploration"
      ],
      "metadata": {
        "id": "oRaRMOY7efx8"
      }
    },
    {
      "cell_type": "code",
      "source": [
        "df = pd.read_excel(\"/content/sample_data/lorawan_dataset.xls\")"
      ],
      "metadata": {
        "id": "PU-oM61GiaCx"
      },
      "execution_count": null,
      "outputs": []
    },
    {
      "cell_type": "code",
      "source": [
        "df = df.rename(columns={\"SPREADING FACTOR\":\"SPREAD\",\"DEVICE ID\":\"ID\",'AIR TIME ':\"TIME\"})"
      ],
      "metadata": {
        "id": "5v4Tatjbijd3"
      },
      "execution_count": null,
      "outputs": []
    },
    {
      "cell_type": "code",
      "source": [
        "df.drop(['BW',\"DISTANCE FROM GATEWAY\"], axis=1, inplace=True)"
      ],
      "metadata": {
        "id": "e7V01JjGimaY"
      },
      "execution_count": null,
      "outputs": []
    },
    {
      "cell_type": "code",
      "source": [
        "df['min'] = pd.to_datetime(df['TIME'], format='%H:%M:%S').dt.minute\n",
        "df['sec'] = pd.to_datetime(df['TIME'], format='%H:%M:%S').dt.second\n",
        "df[\"min\"] = df[\"min\"].values*60\n",
        "df[\"SECONDS\"] = df[\"min\"] + df[\"sec\"]\n",
        "df.drop((['sec',\"min\",\"TIME\"]), axis=1, inplace=True)"
      ],
      "metadata": {
        "id": "oj5mjVHx1TrR"
      },
      "execution_count": null,
      "outputs": []
    },
    {
      "cell_type": "markdown",
      "source": [
        "## Outlier dropping"
      ],
      "metadata": {
        "id": "sAvtmS_oe5Ry"
      }
    },
    {
      "cell_type": "code",
      "source": [
        "df[df[\"RSSI\"]==0]"
      ],
      "metadata": {
        "colab": {
          "base_uri": "https://localhost:8080/",
          "height": 81
        },
        "id": "LEaKRfwA0rUN",
        "outputId": "00b6fb5d-0f17-486c-86f2-b0d11aae9374"
      },
      "execution_count": null,
      "outputs": [
        {
          "output_type": "execute_result",
          "data": {
            "text/plain": [
              "     ID  RSSI  SNR  FREQ  SPREAD TIME STAMP  SECONDS\n",
              "181  16     0  0.0     0      12   03:16:36        7"
            ],
            "text/html": [
              "\n",
              "  <div id=\"df-35032126-1aa9-440b-a9f5-ed373d9cea2c\">\n",
              "    <div class=\"colab-df-container\">\n",
              "      <div>\n",
              "<style scoped>\n",
              "    .dataframe tbody tr th:only-of-type {\n",
              "        vertical-align: middle;\n",
              "    }\n",
              "\n",
              "    .dataframe tbody tr th {\n",
              "        vertical-align: top;\n",
              "    }\n",
              "\n",
              "    .dataframe thead th {\n",
              "        text-align: right;\n",
              "    }\n",
              "</style>\n",
              "<table border=\"1\" class=\"dataframe\">\n",
              "  <thead>\n",
              "    <tr style=\"text-align: right;\">\n",
              "      <th></th>\n",
              "      <th>ID</th>\n",
              "      <th>RSSI</th>\n",
              "      <th>SNR</th>\n",
              "      <th>FREQ</th>\n",
              "      <th>SPREAD</th>\n",
              "      <th>TIME STAMP</th>\n",
              "      <th>SECONDS</th>\n",
              "    </tr>\n",
              "  </thead>\n",
              "  <tbody>\n",
              "    <tr>\n",
              "      <th>181</th>\n",
              "      <td>16</td>\n",
              "      <td>0</td>\n",
              "      <td>0.0</td>\n",
              "      <td>0</td>\n",
              "      <td>12</td>\n",
              "      <td>03:16:36</td>\n",
              "      <td>7</td>\n",
              "    </tr>\n",
              "  </tbody>\n",
              "</table>\n",
              "</div>\n",
              "      <button class=\"colab-df-convert\" onclick=\"convertToInteractive('df-35032126-1aa9-440b-a9f5-ed373d9cea2c')\"\n",
              "              title=\"Convert this dataframe to an interactive table.\"\n",
              "              style=\"display:none;\">\n",
              "        \n",
              "  <svg xmlns=\"http://www.w3.org/2000/svg\" height=\"24px\"viewBox=\"0 0 24 24\"\n",
              "       width=\"24px\">\n",
              "    <path d=\"M0 0h24v24H0V0z\" fill=\"none\"/>\n",
              "    <path d=\"M18.56 5.44l.94 2.06.94-2.06 2.06-.94-2.06-.94-.94-2.06-.94 2.06-2.06.94zm-11 1L8.5 8.5l.94-2.06 2.06-.94-2.06-.94L8.5 2.5l-.94 2.06-2.06.94zm10 10l.94 2.06.94-2.06 2.06-.94-2.06-.94-.94-2.06-.94 2.06-2.06.94z\"/><path d=\"M17.41 7.96l-1.37-1.37c-.4-.4-.92-.59-1.43-.59-.52 0-1.04.2-1.43.59L10.3 9.45l-7.72 7.72c-.78.78-.78 2.05 0 2.83L4 21.41c.39.39.9.59 1.41.59.51 0 1.02-.2 1.41-.59l7.78-7.78 2.81-2.81c.8-.78.8-2.07 0-2.86zM5.41 20L4 18.59l7.72-7.72 1.47 1.35L5.41 20z\"/>\n",
              "  </svg>\n",
              "      </button>\n",
              "      \n",
              "  <style>\n",
              "    .colab-df-container {\n",
              "      display:flex;\n",
              "      flex-wrap:wrap;\n",
              "      gap: 12px;\n",
              "    }\n",
              "\n",
              "    .colab-df-convert {\n",
              "      background-color: #E8F0FE;\n",
              "      border: none;\n",
              "      border-radius: 50%;\n",
              "      cursor: pointer;\n",
              "      display: none;\n",
              "      fill: #1967D2;\n",
              "      height: 32px;\n",
              "      padding: 0 0 0 0;\n",
              "      width: 32px;\n",
              "    }\n",
              "\n",
              "    .colab-df-convert:hover {\n",
              "      background-color: #E2EBFA;\n",
              "      box-shadow: 0px 1px 2px rgba(60, 64, 67, 0.3), 0px 1px 3px 1px rgba(60, 64, 67, 0.15);\n",
              "      fill: #174EA6;\n",
              "    }\n",
              "\n",
              "    [theme=dark] .colab-df-convert {\n",
              "      background-color: #3B4455;\n",
              "      fill: #D2E3FC;\n",
              "    }\n",
              "\n",
              "    [theme=dark] .colab-df-convert:hover {\n",
              "      background-color: #434B5C;\n",
              "      box-shadow: 0px 1px 3px 1px rgba(0, 0, 0, 0.15);\n",
              "      filter: drop-shadow(0px 1px 2px rgba(0, 0, 0, 0.3));\n",
              "      fill: #FFFFFF;\n",
              "    }\n",
              "  </style>\n",
              "\n",
              "      <script>\n",
              "        const buttonEl =\n",
              "          document.querySelector('#df-35032126-1aa9-440b-a9f5-ed373d9cea2c button.colab-df-convert');\n",
              "        buttonEl.style.display =\n",
              "          google.colab.kernel.accessAllowed ? 'block' : 'none';\n",
              "\n",
              "        async function convertToInteractive(key) {\n",
              "          const element = document.querySelector('#df-35032126-1aa9-440b-a9f5-ed373d9cea2c');\n",
              "          const dataTable =\n",
              "            await google.colab.kernel.invokeFunction('convertToInteractive',\n",
              "                                                     [key], {});\n",
              "          if (!dataTable) return;\n",
              "\n",
              "          const docLinkHtml = 'Like what you see? Visit the ' +\n",
              "            '<a target=\"_blank\" href=https://colab.research.google.com/notebooks/data_table.ipynb>data table notebook</a>'\n",
              "            + ' to learn more about interactive tables.';\n",
              "          element.innerHTML = '';\n",
              "          dataTable['output_type'] = 'display_data';\n",
              "          await google.colab.output.renderOutput(dataTable, element);\n",
              "          const docLink = document.createElement('div');\n",
              "          docLink.innerHTML = docLinkHtml;\n",
              "          element.appendChild(docLink);\n",
              "        }\n",
              "      </script>\n",
              "    </div>\n",
              "  </div>\n",
              "  "
            ]
          },
          "metadata": {},
          "execution_count": 6
        }
      ]
    },
    {
      "cell_type": "code",
      "source": [
        "df.drop(df.index[367],axis = 0,inplace = True)"
      ],
      "metadata": {
        "id": "6ArbwwTj095Y"
      },
      "execution_count": null,
      "outputs": []
    },
    {
      "cell_type": "markdown",
      "source": [
        "# Data  Preprocessing"
      ],
      "metadata": {
        "id": "B5Dm6TiYgTcF"
      }
    },
    {
      "cell_type": "code",
      "source": [
        "# Feature selection\n",
        "X = df.iloc[:,1:3]"
      ],
      "metadata": {
        "id": "ttx9day5qZJk"
      },
      "execution_count": null,
      "outputs": []
    },
    {
      "cell_type": "code",
      "source": [
        "cols = X.columns"
      ],
      "metadata": {
        "id": "prNsoJ9VkhUe"
      },
      "execution_count": null,
      "outputs": []
    },
    {
      "cell_type": "code",
      "source": [
        "pca = PCA(2)\n",
        "X = pca.fit_transform(X)"
      ],
      "metadata": {
        "id": "haMSh0xpvUIG"
      },
      "execution_count": null,
      "outputs": []
    },
    {
      "cell_type": "markdown",
      "source": [
        "## Elbow Value"
      ],
      "metadata": {
        "id": "Kae0atk6t161"
      }
    },
    {
      "cell_type": "code",
      "source": [
        "import warnings\n",
        "\n",
        "warnings.filterwarnings('ignore')"
      ],
      "metadata": {
        "id": "aLnfO7tbk8St"
      },
      "execution_count": null,
      "outputs": []
    },
    {
      "cell_type": "code",
      "source": [
        "from sklearn.cluster import KMeans\n",
        "cs = []\n",
        "for i in range(1, 10):\n",
        "    kmeans = KMeans(n_clusters = i, init = 'k-means++', max_iter = 300, n_init = 10, random_state = 0)\n",
        "    kmeans.fit(X)\n",
        "    cs.append(kmeans.inertia_)\n",
        "plt.plot(range(1, 10), cs)\n",
        "plt.title('The Elbow Method')\n",
        "plt.xlabel('Number of clusters')\n",
        "plt.ylabel('CS')\n",
        "plt.show()"
      ],
      "metadata": {
        "id": "fMQtLx3dkv5Q",
        "colab": {
          "base_uri": "https://localhost:8080/",
          "height": 295
        },
        "outputId": "f3e5eb22-2f26-4a25-e8b6-dae8e687c86b"
      },
      "execution_count": null,
      "outputs": [
        {
          "output_type": "display_data",
          "data": {
            "text/plain": [
              "<Figure size 432x288 with 1 Axes>"
            ],
            "image/png": "[encoded data removed]"
          },
          "metadata": {
            "needs_background": "light"
          }
        }
      ]
    },
    {
      "cell_type": "markdown",
      "source": [
        "## Model Train"
      ],
      "metadata": {
        "id": "T-MYY50-uERf"
      }
    },
    {
      "cell_type": "code",
      "source": [
        "from sklearn.cluster import KMeans\n",
        "\n",
        "\n",
        "kmeans = KMeans(n_clusters= 4)\n",
        ""
      ],
      "metadata": {
        "id": "x26qyPFpibyR"
      },
      "execution_count": null,
      "outputs": []
    },
    {
      "cell_type": "code",
      "source": [
        "label = kmeans.fit_predict(X)"
      ],
      "metadata": {
        "id": "NObOq6nM1r_D"
      },
      "execution_count": null,
      "outputs": []
    },
    {
      "cell_type": "code",
      "source": [
        "label = list(label)"
      ],
      "metadata": {
        "id": "2kRSUyBp1uG5"
      },
      "execution_count": null,
      "outputs": []
    },
    {
      "cell_type": "code",
      "source": [
        "data = df.iloc[:,1:3]"
      ],
      "metadata": {
        "id": "lbHeqSi85bUA"
      },
      "execution_count": null,
      "outputs": []
    },
    {
      "cell_type": "code",
      "source": [
        "data[\"Label\"] = label"
      ],
      "metadata": {
        "id": "6n48bYmS0R3x"
      },
      "execution_count": null,
      "outputs": []
    },
    {
      "cell_type": "code",
      "source": [
        "df[\"Label\"] = label"
      ],
      "metadata": {
        "id": "eEWY1VbYh8B9"
      },
      "execution_count": null,
      "outputs": []
    },
    {
      "cell_type": "code",
      "source": [
        "data"
      ],
      "metadata": {
        "id": "nVOn2HDX7tAn",
        "colab": {
          "base_uri": "https://localhost:8080/",
          "height": 424
        },
        "outputId": "7ce06605-7e21-4341-b2e0-8aea9bd07932"
      },
      "execution_count": null,
      "outputs": [
        {
          "output_type": "execute_result",
          "data": {
            "text/plain": [
              "     RSSI   SNR  Label\n",
              "0    -113  -3.8      2\n",
              "1    -114  -4.3      2\n",
              "2    -113  -3.0      2\n",
              "3    -113  -7.0      0\n",
              "4    -114 -10.8      3\n",
              "..    ...   ...    ...\n",
              "617  -114  -8.3      0\n",
              "618  -113  -2.5      2\n",
              "619  -115 -11.3      3\n",
              "620  -115 -11.5      3\n",
              "621  -115 -13.3      3\n",
              "\n",
              "[621 rows x 3 columns]"
            ],
            "text/html": [
              "\n",
              "  <div id=\"df-5f9a8c6d-637c-4f83-a032-064f4f5dfde3\">\n",
              "    <div class=\"colab-df-container\">\n",
              "      <div>\n",
              "<style scoped>\n",
              "    .dataframe tbody tr th:only-of-type {\n",
              "        vertical-align: middle;\n",
              "    }\n",
              "\n",
              "    .dataframe tbody tr th {\n",
              "        vertical-align: top;\n",
              "    }\n",
              "\n",
              "    .dataframe thead th {\n",
              "        text-align: right;\n",
              "    }\n",
              "</style>\n",
              "<table border=\"1\" class=\"dataframe\">\n",
              "  <thead>\n",
              "    <tr style=\"text-align: right;\">\n",
              "      <th></th>\n",
              "      <th>RSSI</th>\n",
              "      <th>SNR</th>\n",
              "      <th>Label</th>\n",
              "    </tr>\n",
              "  </thead>\n",
              "  <tbody>\n",
              "    <tr>\n",
              "      <th>0</th>\n",
              "      <td>-113</td>\n",
              "      <td>-3.8</td>\n",
              "      <td>2</td>\n",
              "    </tr>\n",
              "    <tr>\n",
              "      <th>1</th>\n",
              "      <td>-114</td>\n",
              "      <td>-4.3</td>\n",
              "      <td>2</td>\n",
              "    </tr>\n",
              "    <tr>\n",
              "      <th>2</th>\n",
              "      <td>-113</td>\n",
              "      <td>-3.0</td>\n",
              "      <td>2</td>\n",
              "    </tr>\n",
              "    <tr>\n",
              "      <th>3</th>\n",
              "      <td>-113</td>\n",
              "      <td>-7.0</td>\n",
              "      <td>0</td>\n",
              "    </tr>\n",
              "    <tr>\n",
              "      <th>4</th>\n",
              "      <td>-114</td>\n",
              "      <td>-10.8</td>\n",
              "      <td>3</td>\n",
              "    </tr>\n",
              "    <tr>\n",
              "      <th>...</th>\n",
              "      <td>...</td>\n",
              "      <td>...</td>\n",
              "      <td>...</td>\n",
              "    </tr>\n",
              "    <tr>\n",
              "      <th>617</th>\n",
              "      <td>-114</td>\n",
              "      <td>-8.3</td>\n",
              "      <td>0</td>\n",
              "    </tr>\n",
              "    <tr>\n",
              "      <th>618</th>\n",
              "      <td>-113</td>\n",
              "      <td>-2.5</td>\n",
              "      <td>2</td>\n",
              "    </tr>\n",
              "    <tr>\n",
              "      <th>619</th>\n",
              "      <td>-115</td>\n",
              "      <td>-11.3</td>\n",
              "      <td>3</td>\n",
              "    </tr>\n",
              "    <tr>\n",
              "      <th>620</th>\n",
              "      <td>-115</td>\n",
              "      <td>-11.5</td>\n",
              "      <td>3</td>\n",
              "    </tr>\n",
              "    <tr>\n",
              "      <th>621</th>\n",
              "      <td>-115</td>\n",
              "      <td>-13.3</td>\n",
              "      <td>3</td>\n",
              "    </tr>\n",
              "  </tbody>\n",
              "</table>\n",
              "<p>621 rows × 3 columns</p>\n",
              "</div>\n",
              "      <button class=\"colab-df-convert\" onclick=\"convertToInteractive('df-5f9a8c6d-637c-4f83-a032-064f4f5dfde3')\"\n",
              "              title=\"Convert this dataframe to an interactive table.\"\n",
              "              style=\"display:none;\">\n",
              "        \n",
              "  <svg xmlns=\"http://www.w3.org/2000/svg\" height=\"24px\"viewBox=\"0 0 24 24\"\n",
              "       width=\"24px\">\n",
              "    <path d=\"M0 0h24v24H0V0z\" fill=\"none\"/>\n",
              "    <path d=\"M18.56 5.44l.94 2.06.94-2.06 2.06-.94-2.06-.94-.94-2.06-.94 2.06-2.06.94zm-11 1L8.5 8.5l.94-2.06 2.06-.94-2.06-.94L8.5 2.5l-.94 2.06-2.06.94zm10 10l.94 2.06.94-2.06 2.06-.94-2.06-.94-.94-2.06-.94 2.06-2.06.94z\"/><path d=\"M17.41 7.96l-1.37-1.37c-.4-.4-.92-.59-1.43-.59-.52 0-1.04.2-1.43.59L10.3 9.45l-7.72 7.72c-.78.78-.78 2.05 0 2.83L4 21.41c.39.39.9.59 1.41.59.51 0 1.02-.2 1.41-.59l7.78-7.78 2.81-2.81c.8-.78.8-2.07 0-2.86zM5.41 20L4 18.59l7.72-7.72 1.47 1.35L5.41 20z\"/>\n",
              "  </svg>\n",
              "      </button>\n",
              "      \n",
              "  <style>\n",
              "    .colab-df-container {\n",
              "      display:flex;\n",
              "      flex-wrap:wrap;\n",
              "      gap: 12px;\n",
              "    }\n",
              "\n",
              "    .colab-df-convert {\n",
              "      background-color: #E8F0FE;\n",
              "      border: none;\n",
              "      border-radius: 50%;\n",
              "      cursor: pointer;\n",
              "      display: none;\n",
              "      fill: #1967D2;\n",
              "      height: 32px;\n",
              "      padding: 0 0 0 0;\n",
              "      width: 32px;\n",
              "    }\n",
              "\n",
              "    .colab-df-convert:hover {\n",
              "      background-color: #E2EBFA;\n",
              "      box-shadow: 0px 1px 2px rgba(60, 64, 67, 0.3), 0px 1px 3px 1px rgba(60, 64, 67, 0.15);\n",
              "      fill: #174EA6;\n",
              "    }\n",
              "\n",
              "    [theme=dark] .colab-df-convert {\n",
              "      background-color: #3B4455;\n",
              "      fill: #D2E3FC;\n",
              "    }\n",
              "\n",
              "    [theme=dark] .colab-df-convert:hover {\n",
              "      background-color: #434B5C;\n",
              "      box-shadow: 0px 1px 3px 1px rgba(0, 0, 0, 0.15);\n",
              "      filter: drop-shadow(0px 1px 2px rgba(0, 0, 0, 0.3));\n",
              "      fill: #FFFFFF;\n",
              "    }\n",
              "  </style>\n",
              "\n",
              "      <script>\n",
              "        const buttonEl =\n",
              "          document.querySelector('#df-5f9a8c6d-637c-4f83-a032-064f4f5dfde3 button.colab-df-convert');\n",
              "        buttonEl.style.display =\n",
              "          google.colab.kernel.accessAllowed ? 'block' : 'none';\n",
              "\n",
              "        async function convertToInteractive(key) {\n",
              "          const element = document.querySelector('#df-5f9a8c6d-637c-4f83-a032-064f4f5dfde3');\n",
              "          const dataTable =\n",
              "            await google.colab.kernel.invokeFunction('convertToInteractive',\n",
              "                                                     [key], {});\n",
              "          if (!dataTable) return;\n",
              "\n",
              "          const docLinkHtml = 'Like what you see? Visit the ' +\n",
              "            '<a target=\"_blank\" href=https://colab.research.google.com/notebooks/data_table.ipynb>data table notebook</a>'\n",
              "            + ' to learn more about interactive tables.';\n",
              "          element.innerHTML = '';\n",
              "          dataTable['output_type'] = 'display_data';\n",
              "          await google.colab.output.renderOutput(dataTable, element);\n",
              "          const docLink = document.createElement('div');\n",
              "          docLink.innerHTML = docLinkHtml;\n",
              "          element.appendChild(docLink);\n",
              "        }\n",
              "      </script>\n",
              "    </div>\n",
              "  </div>\n",
              "  "
            ]
          },
          "metadata": {},
          "execution_count": 20
        }
      ]
    },
    {
      "cell_type": "code",
      "source": [
        "u_labels = np.unique(label)\n",
        "u_labels"
      ],
      "metadata": {
        "id": "1Cb4REma6Ayu",
        "colab": {
          "base_uri": "https://localhost:8080/"
        },
        "outputId": "4d6ee88d-6607-450e-cb5f-5c85ced79b52"
      },
      "execution_count": null,
      "outputs": [
        {
          "output_type": "execute_result",
          "data": {
            "text/plain": [
              "array([0, 1, 2, 3], dtype=int32)"
            ]
          },
          "metadata": {},
          "execution_count": 21
        }
      ]
    },
    {
      "cell_type": "markdown",
      "source": [
        "## Data Visualization"
      ],
      "metadata": {
        "id": "0dHvRwBkuMOd"
      }
    },
    {
      "cell_type": "code",
      "source": [
        "plt.scatter(data[\"RSSI\"], data[\"SNR\"], c=data[\"Label\"],alpha = 0.6, s=10)\n",
        "plt.xlim(-120, -60)\n",
        "plt.ylim(-20, 5)\n",
        "plt.xlabel(\"RSSI\")\n",
        "plt.ylabel(\"SNR\")"
      ],
      "metadata": {
        "id": "DGloIp0-MkfB",
        "colab": {
          "base_uri": "https://localhost:8080/",
          "height": 300
        },
        "outputId": "96078957-0081-41f1-dead-cf670c5ea59e"
      },
      "execution_count": null,
      "outputs": [
        {
          "output_type": "execute_result",
          "data": {
            "text/plain": [
              "Text(0, 0.5, 'SNR')"
            ]
          },
          "metadata": {},
          "execution_count": 22
        },
        {
          "output_type": "display_data",
          "data": {
            "text/plain": [
              "<Figure size 432x288 with 1 Axes>"
            ],
            "image/png": "[encoded data removed]"
          },
          "metadata": {
            "needs_background": "light"
          }
        }
      ]
    },
    {
      "cell_type": "code",
      "source": [
        "from matplotlib.colors import Colormap\n",
        "plt.style.use('seaborn-whitegrid')\n",
        "plt.rc(\"figure\", autolayout=True)\n",
        "plt.rc(\"axes\", labelweight='bold', labelsize='large', titleweight='bold', titlesize=14, titlepad=10)\n",
        "sns.relplot(x=df.RSSI, y=df.SNR, hue=data.Label, data=df, height=6, palette = [\"green\", \"yellow\", \"orange\", \"dodgerblue\"])\n",
        "plt.xlim(-120, -90)\n",
        "plt.ylim(-20, 5)\n",
        "plt.show()"
      ],
      "metadata": {
        "id": "hwMRbMDI-21k",
        "colab": {
          "base_uri": "https://localhost:8080/",
          "height": 445
        },
        "outputId": "bab16d6f-e1be-4324-e118-9f3b6e5e35a5"
      },
      "execution_count": null,
      "outputs": [
        {
          "output_type": "display_data",
          "data": {
            "text/plain": [
              "<Figure size 473.625x432 with 1 Axes>"
            ],
            "image/png": "[encoded data removed]"
          },
          "metadata": {}
        }
      ]
    },
    {
      "cell_type": "code",
      "source": [
        "df"
      ],
      "metadata": {
        "id": "tkhigIefi0Hb",
        "colab": {
          "base_uri": "https://localhost:8080/",
          "height": 424
        },
        "outputId": "df399431-e3b4-4e04-ebbd-4a706a2602a5"
      },
      "execution_count": null,
      "outputs": [
        {
          "output_type": "execute_result",
          "data": {
            "text/plain": [
              "     ID  RSSI   SNR       FREQ  SPREAD TIME STAMP  SECONDS  Label\n",
              "0     1  -113  -3.8  868500000      11   00:41:46        0      2\n",
              "1     1  -114  -4.3  868100000      11   00:43:17        8      2\n",
              "2     1  -113  -3.0  868100000       7   01:15:31       13      2\n",
              "3     1  -113  -7.0  868500000      12   01:37:45        8      0\n",
              "4     1  -114 -10.8  868300000      11   03:58:40        8      3\n",
              "..   ..   ...   ...        ...     ...        ...      ...    ...\n",
              "617  50  -114  -8.3  868100000       8   03:12:27       72      0\n",
              "618  50  -113  -2.5  868100000      12   03:52:44       60      2\n",
              "619  50  -115 -11.3  868100000      11   05:24:37      107      3\n",
              "620  50  -115 -11.5  868100000      10   05:30:31       60      3\n",
              "621  50  -115 -13.3  868100000       9   05:54:28       60      3\n",
              "\n",
              "[621 rows x 8 columns]"
            ],
            "text/html": [
              "\n",
              "  <div id=\"df-8c28b42a-9048-4e07-a4f7-0984ca112b58\">\n",
              "    <div class=\"colab-df-container\">\n",
              "      <div>\n",
              "<style scoped>\n",
              "    .dataframe tbody tr th:only-of-type {\n",
              "        vertical-align: middle;\n",
              "    }\n",
              "\n",
              "    .dataframe tbody tr th {\n",
              "        vertical-align: top;\n",
              "    }\n",
              "\n",
              "    .dataframe thead th {\n",
              "        text-align: right;\n",
              "    }\n",
              "</style>\n",
              "<table border=\"1\" class=\"dataframe\">\n",
              "  <thead>\n",
              "    <tr style=\"text-align: right;\">\n",
              "      <th></th>\n",
              "      <th>ID</th>\n",
              "      <th>RSSI</th>\n",
              "      <th>SNR</th>\n",
              "      <th>FREQ</th>\n",
              "      <th>SPREAD</th>\n",
              "      <th>TIME STAMP</th>\n",
              "      <th>SECONDS</th>\n",
              "      <th>Label</th>\n",
              "    </tr>\n",
              "  </thead>\n",
              "  <tbody>\n",
              "    <tr>\n",
              "      <th>0</th>\n",
              "      <td>1</td>\n",
              "      <td>-113</td>\n",
              "      <td>-3.8</td>\n",
              "      <td>868500000</td>\n",
              "      <td>11</td>\n",
              "      <td>00:41:46</td>\n",
              "      <td>0</td>\n",
              "      <td>2</td>\n",
              "    </tr>\n",
              "    <tr>\n",
              "      <th>1</th>\n",
              "      <td>1</td>\n",
              "      <td>-114</td>\n",
              "      <td>-4.3</td>\n",
              "      <td>868100000</td>\n",
              "      <td>11</td>\n",
              "      <td>00:43:17</td>\n",
              "      <td>8</td>\n",
              "      <td>2</td>\n",
              "    </tr>\n",
              "    <tr>\n",
              "      <th>2</th>\n",
              "      <td>1</td>\n",
              "      <td>-113</td>\n",
              "      <td>-3.0</td>\n",
              "      <td>868100000</td>\n",
              "      <td>7</td>\n",
              "      <td>01:15:31</td>\n",
              "      <td>13</td>\n",
              "      <td>2</td>\n",
              "    </tr>\n",
              "    <tr>\n",
              "      <th>3</th>\n",
              "      <td>1</td>\n",
              "      <td>-113</td>\n",
              "      <td>-7.0</td>\n",
              "      <td>868500000</td>\n",
              "      <td>12</td>\n",
              "      <td>01:37:45</td>\n",
              "      <td>8</td>\n",
              "      <td>0</td>\n",
              "    </tr>\n",
              "    <tr>\n",
              "      <th>4</th>\n",
              "      <td>1</td>\n",
              "      <td>-114</td>\n",
              "      <td>-10.8</td>\n",
              "      <td>868300000</td>\n",
              "      <td>11</td>\n",
              "      <td>03:58:40</td>\n",
              "      <td>8</td>\n",
              "      <td>3</td>\n",
              "    </tr>\n",
              "    <tr>\n",
              "      <th>...</th>\n",
              "      <td>...</td>\n",
              "      <td>...</td>\n",
              "      <td>...</td>\n",
              "      <td>...</td>\n",
              "      <td>...</td>\n",
              "      <td>...</td>\n",
              "      <td>...</td>\n",
              "      <td>...</td>\n",
              "    </tr>\n",
              "    <tr>\n",
              "      <th>617</th>\n",
              "      <td>50</td>\n",
              "      <td>-114</td>\n",
              "      <td>-8.3</td>\n",
              "      <td>868100000</td>\n",
              "      <td>8</td>\n",
              "      <td>03:12:27</td>\n",
              "      <td>72</td>\n",
              "      <td>0</td>\n",
              "    </tr>\n",
              "    <tr>\n",
              "      <th>618</th>\n",
              "      <td>50</td>\n",
              "      <td>-113</td>\n",
              "      <td>-2.5</td>\n",
              "      <td>868100000</td>\n",
              "      <td>12</td>\n",
              "      <td>03:52:44</td>\n",
              "      <td>60</td>\n",
              "      <td>2</td>\n",
              "    </tr>\n",
              "    <tr>\n",
              "      <th>619</th>\n",
              "      <td>50</td>\n",
              "      <td>-115</td>\n",
              "      <td>-11.3</td>\n",
              "      <td>868100000</td>\n",
              "      <td>11</td>\n",
              "      <td>05:24:37</td>\n",
              "      <td>107</td>\n",
              "      <td>3</td>\n",
              "    </tr>\n",
              "    <tr>\n",
              "      <th>620</th>\n",
              "      <td>50</td>\n",
              "      <td>-115</td>\n",
              "      <td>-11.5</td>\n",
              "      <td>868100000</td>\n",
              "      <td>10</td>\n",
              "      <td>05:30:31</td>\n",
              "      <td>60</td>\n",
              "      <td>3</td>\n",
              "    </tr>\n",
              "    <tr>\n",
              "      <th>621</th>\n",
              "      <td>50</td>\n",
              "      <td>-115</td>\n",
              "      <td>-13.3</td>\n",
              "      <td>868100000</td>\n",
              "      <td>9</td>\n",
              "      <td>05:54:28</td>\n",
              "      <td>60</td>\n",
              "      <td>3</td>\n",
              "    </tr>\n",
              "  </tbody>\n",
              "</table>\n",
              "<p>621 rows × 8 columns</p>\n",
              "</div>\n",
              "      <button class=\"colab-df-convert\" onclick=\"convertToInteractive('df-8c28b42a-9048-4e07-a4f7-0984ca112b58')\"\n",
              "              title=\"Convert this dataframe to an interactive table.\"\n",
              "              style=\"display:none;\">\n",
              "        \n",
              "  <svg xmlns=\"http://www.w3.org/2000/svg\" height=\"24px\"viewBox=\"0 0 24 24\"\n",
              "       width=\"24px\">\n",
              "    <path d=\"M0 0h24v24H0V0z\" fill=\"none\"/>\n",
              "    <path d=\"M18.56 5.44l.94 2.06.94-2.06 2.06-.94-2.06-.94-.94-2.06-.94 2.06-2.06.94zm-11 1L8.5 8.5l.94-2.06 2.06-.94-2.06-.94L8.5 2.5l-.94 2.06-2.06.94zm10 10l.94 2.06.94-2.06 2.06-.94-2.06-.94-.94-2.06-.94 2.06-2.06.94z\"/><path d=\"M17.41 7.96l-1.37-1.37c-.4-.4-.92-.59-1.43-.59-.52 0-1.04.2-1.43.59L10.3 9.45l-7.72 7.72c-.78.78-.78 2.05 0 2.83L4 21.41c.39.39.9.59 1.41.59.51 0 1.02-.2 1.41-.59l7.78-7.78 2.81-2.81c.8-.78.8-2.07 0-2.86zM5.41 20L4 18.59l7.72-7.72 1.47 1.35L5.41 20z\"/>\n",
              "  </svg>\n",
              "      </button>\n",
              "      \n",
              "  <style>\n",
              "    .colab-df-container {\n",
              "      display:flex;\n",
              "      flex-wrap:wrap;\n",
              "      gap: 12px;\n",
              "    }\n",
              "\n",
              "    .colab-df-convert {\n",
              "      background-color: #E8F0FE;\n",
              "      border: none;\n",
              "      border-radius: 50%;\n",
              "      cursor: pointer;\n",
              "      display: none;\n",
              "      fill: #1967D2;\n",
              "      height: 32px;\n",
              "      padding: 0 0 0 0;\n",
              "      width: 32px;\n",
              "    }\n",
              "\n",
              "    .colab-df-convert:hover {\n",
              "      background-color: #E2EBFA;\n",
              "      box-shadow: 0px 1px 2px rgba(60, 64, 67, 0.3), 0px 1px 3px 1px rgba(60, 64, 67, 0.15);\n",
              "      fill: #174EA6;\n",
              "    }\n",
              "\n",
              "    [theme=dark] .colab-df-convert {\n",
              "      background-color: #3B4455;\n",
              "      fill: #D2E3FC;\n",
              "    }\n",
              "\n",
              "    [theme=dark] .colab-df-convert:hover {\n",
              "      background-color: #434B5C;\n",
              "      box-shadow: 0px 1px 3px 1px rgba(0, 0, 0, 0.15);\n",
              "      filter: drop-shadow(0px 1px 2px rgba(0, 0, 0, 0.3));\n",
              "      fill: #FFFFFF;\n",
              "    }\n",
              "  </style>\n",
              "\n",
              "      <script>\n",
              "        const buttonEl =\n",
              "          document.querySelector('#df-8c28b42a-9048-4e07-a4f7-0984ca112b58 button.colab-df-convert');\n",
              "        buttonEl.style.display =\n",
              "          google.colab.kernel.accessAllowed ? 'block' : 'none';\n",
              "\n",
              "        async function convertToInteractive(key) {\n",
              "          const element = document.querySelector('#df-8c28b42a-9048-4e07-a4f7-0984ca112b58');\n",
              "          const dataTable =\n",
              "            await google.colab.kernel.invokeFunction('convertToInteractive',\n",
              "                                                     [key], {});\n",
              "          if (!dataTable) return;\n",
              "\n",
              "          const docLinkHtml = 'Like what you see? Visit the ' +\n",
              "            '<a target=\"_blank\" href=https://colab.research.google.com/notebooks/data_table.ipynb>data table notebook</a>'\n",
              "            + ' to learn more about interactive tables.';\n",
              "          element.innerHTML = '';\n",
              "          dataTable['output_type'] = 'display_data';\n",
              "          await google.colab.output.renderOutput(dataTable, element);\n",
              "          const docLink = document.createElement('div');\n",
              "          docLink.innerHTML = docLinkHtml;\n",
              "          element.appendChild(docLink);\n",
              "        }\n",
              "      </script>\n",
              "    </div>\n",
              "  </div>\n",
              "  "
            ]
          },
          "metadata": {},
          "execution_count": 24
        }
      ]
    },
    {
      "cell_type": "code",
      "source": [
        "df.to_excel(\"df.xlsx\")\n"
      ],
      "metadata": {
        "id": "DZzyxXCuNMGa"
      },
      "execution_count": null,
      "outputs": []
    },
    {
      "cell_type": "code",
      "source": [
        "df.info()"
      ],
      "metadata": {
        "colab": {
          "base_uri": "https://localhost:8080/"
        },
        "id": "T0BTQ2wmvCL6",
        "outputId": "4b845f51-6ebd-4b7e-fce7-102c25a6652b"
      },
      "execution_count": null,
      "outputs": [
        {
          "output_type": "stream",
          "name": "stdout",
          "text": [
            "<class 'pandas.core.frame.DataFrame'>\n",
            "Int64Index: 621 entries, 0 to 621\n",
            "Data columns (total 8 columns):\n",
            " #   Column      Non-Null Count  Dtype  \n",
            "---  ------      --------------  -----  \n",
            " 0   ID          621 non-null    int64  \n",
            " 1   RSSI        621 non-null    int64  \n",
            " 2   SNR         621 non-null    float64\n",
            " 3   FREQ        621 non-null    int64  \n",
            " 4   SPREAD      621 non-null    int64  \n",
            " 5   TIME STAMP  621 non-null    object \n",
            " 6   SECONDS     621 non-null    int64  \n",
            " 7   Label       621 non-null    int64  \n",
            "dtypes: float64(1), int64(6), object(1)\n",
            "memory usage: 63.7+ KB\n"
          ]
        }
      ]
    },
    {
      "cell_type": "code",
      "source": [
        "plt.rcParams[\"figure.figsize\"] = [7.00, 3.50]\n",
        "plt.rcParams[\"figure.autolayout\"] = True\n",
        "fig = plt.figure()\n",
        "ax = fig.add_subplot(111, projection='3d')\n",
        "x = df.RSSI\n",
        "y = df.SNR\n",
        "z = df.SECONDS\n",
        "c = df.Label\n",
        "img = ax.scatter(x, y, z, c=c, cmap='plasma', alpha=1)\n",
        "plt.show()"
      ],
      "metadata": {
        "colab": {
          "base_uri": "https://localhost:8080/",
          "height": 261
        },
        "id": "3IF9Lvv5mahH",
        "outputId": "b3c2c446-9a96-4b04-d0e4-96a571fd0ecc"
      },
      "execution_count": null,
      "outputs": [
        {
          "output_type": "display_data",
          "data": {
            "text/plain": [
              "<Figure size 504x252 with 1 Axes>"
            ],
            "image/png": "[encoded data removed]"
          },
          "metadata": {}
        }
      ]
    },
    {
      "cell_type": "code",
      "source": [
        "import plotly.express as px\n",
        "df[\"Label\"] = df[\"Label\"].astype(str)\n",
        "fig = px.scatter_3d(df, x='RSSI', y='SNR', z='SECONDS',\n",
        "              color='Label')\n",
        "fig.show()"
      ],
      "metadata": {
        "colab": {
          "base_uri": "https://localhost:8080/",
          "height": 542
        },
        "id": "m60ENIfInBig",
        "outputId": "6e3caffb-f354-49a4-e003-42238d2056cd"
      },
      "execution_count": null,
      "outputs": [
        {
          "output_type": "display_data",
          "data": {
            "text/html": [
              "<html>\n",
              "<head><meta charset=\"utf-8\" /></head>\n",
              "<body>\n",
              "    <div>            <script src=\"https://cdnjs.cloudflare.com/ajax/libs/mathjax/2.7.5/MathJax.js?config=TeX-AMS-MML_SVG\"></script><script type=\"text/javascript\">if (window.MathJax) {MathJax.Hub.Config({SVG: {font: \"STIX-Web\"}});}</script>                <script type=\"text/javascript\">window.PlotlyConfig = {MathJaxConfig: 'local'};</script>\n",
              "        <script src=\"https://cdn.plot.ly/plotly-2.8.3.min.js\"></script>                <div id=\"ea9a2a40-bdd0-49f2-b2c5-0a2efd010187\" class=\"plotly-graph-div\" style=\"height:525px; width:100%;\"></div>            <script type=\"text/javascript\">                                    window.PLOTLYENV=window.PLOTLYENV || {};                                    if (document.getElementById(\"ea9a2a40-bdd0-49f2-b2c5-0a2efd010187\")) {                    Plotly.newPlot(                        \"ea9a2a40-bdd0-49f2-b2c5-0a2efd010187\",                        [{\"hovertemplate\":\"Label=1<br>RSSI=%{x}<br>SNR=%{y}<br>SECONDS=%{z}<extra></extra>\",\"legendgroup\":\"1\",\"marker\":{\"color\":\"#636efa\",\"symbol\":\"circle\"},\"mode\":\"markers\",\"name\":\"1\",\"scene\":\"scene\",\"showlegend\":true,\"x\":[-115,-113,-114,-114,-115,-113,-115,-115,-114,-115,-114,-115,-117,-114,-115,-115,-115,-111,-115,-111,-113,-115,-115,-114,-115,-114,-114,-113,-114,-114,-113,-115,-114,-114,-113,-114,-115,-113,-115,-115,-114,-113,-114,-113,-115,-115,-113,-115,-115,-115,-115,-114,-114,-114,-117,-115,-110,-114,-115,-114,-113,-112,-114,-114,-114,-114,-113,-114,-115,-115,-114,-115,-114,-115,-115,-115,-112,-111,-114,-111,-113,-115,-114,-113,-115,-115,-113,-115,-113,-114,-113,-113,-115,-114,-115,-115,-113,-113,-114,-114,-117,-114,-114,-114,-114,-114,-114,-115,-115,-114,-114,-114,-115,-113,-114,-114,-115,-114,-115,-115,-114,-112,-115,-114,-114,-117,-114,-114,-115,-115,-115,-115,-112,-114,-112,-114,-115,-115,-114,-115,-115,-115,-115,-113,-114,-115,-114,-114,-115,-117,-114,-114,-114,-114,-114,-114,-115,-115,-115,-115,-115,-114,-115,-115,-115,-115,-115,-114,-115,-115,-113,-115,-115,-114,-114,-114,-117,-115,-113],\"y\":[-16.5,-12.5,-13.0,-11.0,-10.3,-13.3,-11.0,-10.8,-15.3,-14.3,-15.3,-13.5,-10.3,-10.8,-13.0,-11.8,-12.0,-11.5,-12.8,-10.8,-11.0,-11.5,-11.3,-12.0,-12.0,-11.5,-14.8,-15.0,-12.8,-10.8,-12.8,-14.8,-12.3,-11.5,-12.0,-11.8,-12.5,-11.0,-11.5,-12.8,-10.3,-15.8,-14.5,-12.3,-11.0,-18.0,-10.8,-11.3,-10.3,-10.5,-15.0,-13.8,-12.0,-11.0,-11.0,-12.3,-12.5,-12.5,-10.3,-11.5,-11.0,-12.5,-19.5,-10.3,-11.0,-12.0,-10.3,-15.3,-10.3,-10.0,-13.8,-11.3,-10.3,-16.8,-11.0,-11.3,-11.0,-14.5,-10.8,-11.3,-10.8,-11.8,-13.3,-11.0,-10.5,-19.5,-14.5,-10.8,-15.5,-17.8,-15.0,-17.3,-17.3,-11.5,-13.8,-18.3,-17.0,-14.0,-16.3,-13.8,-14.3,-13.0,-15.3,-10.3,-15.5,-16.5,-17.0,-10.8,-18.0,-14.5,-13.5,-16.5,-13.5,-16.5,-18.3,-15.8,-12.5,-12.8,-12.5,-11.8,-12.3,-18.3,-11.8,-16.3,-11.3,-11.3,-18.3,-11.8,-13.5,-12.3,-13.8,-12.5,-14.0,-13.5,-16.5,-12.3,-11.3,-12.3,-12.0,-11.3,-11.8,-13.0,-11.5,-16.0,-12.5,-12.0,-12.8,-12.5,-12.5,-12.8,-12.3,-12.3,-12.3,-12.8,-12.8,-13.0,-12.0,-11.5,-11.0,-12.0,-12.0,-13.0,-12.8,-12.5,-13.3,-13.5,-13.3,-12.5,-12.3,-13.5,-13.5,-13.0,-13.3,-11.8,-12.3,-12.3,-14.0,-12.5,-12.0],\"z\":[0,8,13,8,13,8,8,7,8,8,7,8,6,7,6,6,11,7,63,65,48,8,33,27,8,8,8,7,8,11,16,11,12,6,6,50,56,5,40,12,13,8,7,8,19,8,24,8,65,9,67,59,8,395,270,75,151,6,65,10,13,6,1088,7,8,8,7,14,7,8,8,8,8,18,8,8,7,11,12,7,6,6,5,6,52,816,680,6,66,6,9,12,17,27,5,25,23,77,4,6,7,6,11,71,60,54,55,5,6,48,66,5,49,5,55,5,6,59,401,60,54,6,49,5,55,64,6,49,64,55,60,64,60,55,10,50,69,55,65,59,60,55,60,5,54,47,8,52,8,51,18,50,60,120,59,69,55,65,238,80,65,115,39,140,39,80,60,64,60,55,60,112,251,47,72,60,107,60,60],\"type\":\"scatter3d\"},{\"hovertemplate\":\"Label=0<br>RSSI=%{x}<br>SNR=%{y}<br>SECONDS=%{z}<extra></extra>\",\"legendgroup\":\"0\",\"marker\":{\"color\":\"#EF553B\",\"symbol\":\"circle\"},\"mode\":\"markers\",\"name\":\"0\",\"scene\":\"scene\",\"showlegend\":true,\"x\":[-115,-114,-111,-114,-115,-114,-115,-115,-115,-115,-115,-115,-112,-114,-114,-115,-117,-114,-111,-114,-114,-114,-113,-113,-115,-114,-115,-113,-114,-115,-114,-115,-115,-113,-115,-115,-115,-114,-113,-115,-115,-114,-113,-113,-112,-113,-114,-114,-115,-115,-114,-114,-112,-115,-114,-114,-113,-114,-114,-114,-115,-115,-113,-114,-114,-113,-114,-115,-115,-112,-114,-113,-112,-113,-113,-115,-115,-115,-115,-115,-112,-114,-115,-113,-114,-115,-115,-112,-113,-115,-114,-114,-115,-113,-114,-114,-114,-112,-114,-112,-115,-115,-113,-114,-113,-114,-113,-113,-114,-115,-114,-111,-114,-113,-115,-115,-114,-114,-114,-113,-114,-115,-115,-115,-114,-113,-113,-114,-115,-114,-115,-115,-113,-115,-115,-114,-115,-115,-113,-115,-114,-114,-114,-115,-113,-114,-113,-113,-114,-114,-115,-114,-113,-113,-114,-114,-115,-114,-115,-114,-115,-113,-114,-112,-113,-113,-113,-115,-114,-114,-113,-115,-117,-115,-114,-114,-117,-114,-115,-113,-113,-113,-112,-112,-113,-113,-113,-114,-114,-112,-114,-113,-112,-115,-112,-115,-112,-115,-117,-114,-114,-114,-114,-114,-112,-115,-115,-112,-115,-115,-115,-113,-112,-115,-113,-114,-113,-115,-112,-114,-115,-113,-112,-114,-112,-114,-114,-115,-114,-113,-111,-115,-113,-113,-111,-113,-113,-113,-114,-111,-112,-115,-115,-114,-113,-114,-111,-114,-111,-115,-113,-114,-114,-114,-113,-114],\"y\":[-8.5,-4.8,-6.5,-5.8,-7.3,-9.5,-6.8,-7.5,-9.0,-8.0,-8.5,-4.5,-6.3,-6.8,-7.5,-8.5,-7.8,-6.5,-6.3,-8.3,-8.5,-4.3,-8.3,-8.3,-6.5,-7.5,-8.5,-5.5,-5.5,-7.3,-6.3,-7.5,-7.8,-5.3,-7.0,-6.3,-8.3,-7.0,-4.8,-7.0,-4.8,-5.8,-5.5,-5.0,-9.8,-10.0,-5.5,-6.0,-6.3,-6.8,-5.5,-5.0,-6.3,-6.8,-4.3,-4.3,-8.0,-6.0,-5.5,-6.0,-7.5,-7.0,-7.3,-4.5,-5.5,-6.5,-5.3,-7.3,-4.5,-7.0,-7.3,-6.8,-8.3,-4.8,-7.0,-5.0,-8.5,-7.5,-9.5,-8.5,-8.8,-9.5,-6.8,-10.0,-9.5,-6.3,-5.0,-7.5,-7.5,-6.5,-9.0,-4.5,-4.3,-5.3,-6.3,-6.3,-10.0,-5.8,-4.5,-7.5,-6.5,-9.0,-5.3,-7.8,-7.0,-7.5,-6.3,-6.8,-8.0,-8.3,-6.5,-6.0,-6.3,-5.0,-5.8,-8.0,-6.8,-7.8,-9.5,-7.8,-10.0,-7.0,-8.0,-6.8,-4.3,-6.8,-8.5,-9.5,-8.8,-6.8,-7.5,-7.0,-8.3,-5.0,-6.8,-5.5,-4.8,-7.3,-7.8,-8.8,-8.0,-6.3,-8.3,-7.8,-5.8,-7.3,-9.5,-8.3,-6.8,-8.3,-8.0,-6.0,-8.8,-6.5,-8.8,-5.8,-7.0,-6.0,-6.8,-8.8,-9.0,-9.3,-8.5,-8.0,-7.3,-9.3,-5.5,-8.0,-7.5,-8.3,-8.3,-7.0,-7.5,-8.0,-9.0,-7.8,-8.5,-4.3,-7.0,-6.5,-7.0,-9.0,-7.3,-7.5,-9.5,-6.0,-5.8,-9.8,-5.8,-8.0,-4.8,-6.8,-7.3,-9.5,-8.8,-6.8,-9.5,-6.3,-4.3,-7.3,-8.0,-8.8,-9.8,-5.0,-8.8,-7.0,-8.8,-7.8,-6.0,-4.3,-8.8,-8.3,-8.5,-4.8,-6.8,-7.5,-7.0,-5.3,-10.0,-5.8,-8.8,-6.8,-8.3,-7.8,-6.5,-6.3,-8.3,-5.5,-5.5,-7.0,-8.5,-5.5,-5.8,-7.8,-7.0,-6.0,-7.8,-4.8,-5.0,-6.8,-6.5,-7.8,-8.3,-6.8,-5.8,-7.8,-7.8,-5.0,-6.3,-4.8,-7.5,-7.8,-7.0,-6.0,-6.3,-5.0],\"z\":[8,8,8,8,8,8,8,8,8,13,8,8,12,6,7,6,7,6,6,7,6,6,7,6,7,7,11,36,28,12,25,127,6,108,151,5,6,5,6,41,6,50,5,30,22,32,41,14,27,29,28,9,20,32,17,42,8,5,12,20,18,18,16,5,26,22,12,8,8,7,8,8,8,7,8,8,8,7,7,6,12,6,7,6,6,6,13,34,35,8,34,6,20,1,11,51,58,93,12,32,8,32,7,50,16,8,18,17,28,35,18,5,20,12,403,8,8,8,8,10,91,6,95,5,80,53,6,36,9,48,57,48,28,32,28,21,25,52,8,13,28,55,18,57,17,57,50,1,37,61,25,7,30,30,18,28,30,22,28,39,65,28,32,29,19,33,25,21,29,41,29,26,32,53,32,35,19,5,18,7,8,8,8,7,8,8,7,8,8,7,7,6,7,6,7,6,7,6,6,7,7,6,5,6,6,6,6,6,6,6,6,6,6,21,5,6,81,25,25,20,57,94,48,5,48,24,5,35,14,15,10,5,24,6,32,8,30,5,16,6,25,16,28,15,26,13,11,12,19,23,6,25,18,22,16,35],\"type\":\"scatter3d\"},{\"hovertemplate\":\"Label=2<br>RSSI=%{x}<br>SNR=%{y}<br>SECONDS=%{z}<extra></extra>\",\"legendgroup\":\"2\",\"marker\":{\"color\":\"#00cc96\",\"symbol\":\"circle\"},\"mode\":\"markers\",\"name\":\"2\",\"scene\":\"scene\",\"showlegend\":true,\"x\":[-113,-111,-108,-112,-113,-111,-112,-107,-113,-113,-112,-113,-114,-113,-113,-112,-113,-112,-114,-113,-112,-112,-112,-113,-111,-114,-114,-114,-112,-112,-114,-113,-114,-114,-111,-113,-111,-114,-111,-113,-111,-113,-108,-113,-106,-111,-108,-113,-105,-108,-114,-111,-109,-112,-115,-114,-109,-112,-112,-111,-115,-109,-108,-108,-113,-111,-114,-114,-114,-111,-108,-113,-111,-109,-114,-109,-111,-110,-111,-111,-109,-112,-111,-113,-111,-114,-109,-112,-109,-111,-113,-114,-109,-113,-111,-112,-113,-112,-110,-112,-111,-112,-112,-108,-111,-112,-113,-112,-114,-113,-115,-115,-113,-114,-111,-113,-113,-112,-111,-111,-114,-111,-113,-114,-112,-114,-113,-113,-114,-113,-111,-113,-113,-111,-113,-114,-113,-113,-113,-114],\"y\":[-3.8,-3.8,-4.0,-0.8,-3.8,-3.5,-2.8,-1.8,-4.0,-2.0,-1.0,-3.3,-3.8,-4.3,-4.0,-5.0,-2.5,0.0,-2.3,-1.5,-1.3,-4.8,-4.0,-2.5,-1.8,-3.5,-3.8,-2.3,-3.0,-4.5,-2.8,-3.0,-3.5,-2.5,-2.5,-1.5,-1.5,-3.0,-1.8,-4.0,-4.8,-0.3,-2.3,-2.3,-1.5,-1.8,-2.0,-2.3,0.3,-2.0,-2.8,-4.8,-3.8,0.0,-1.5,-1.3,-4.8,-3.3,0.5,-0.3,-2.0,-2.0,-3.8,0.0,-3.8,1.0,-3.8,-1.8,-2.0,-3.0,-3.3,-1.0,-4.5,-2.8,-2.8,2.3,-2.8,-1.0,-3.0,-0.8,-3.3,-4.8,-3.0,0.8,-3.8,-3.3,2.3,-4.0,-2.0,-3.5,-1.0,-3.0,-3.3,-1.5,-4.8,1.3,-3.8,0.0,-1.3,0.5,-0.5,0.0,1.5,-3.0,-4.0,1.0,-2.5,-3.3,-2.5,-1.8,-1.0,0.5,-2.8,-2.5,-5.0,-1.0,-3.5,0.0,-3.5,-3.5,-2.0,-1.3,-3.8,-3.8,-4.0,-2.8,-4.5,-3.5,-3.0,-3.3,-2.5,-1.8,-2.0,-5.0,-3.3,-2.0,-4.5,-4.3,-3.8,-4.0],\"z\":[7,8,13,8,7,7,7,6,7,25,6,5,7,10,17,41,5,5,19,29,5,60,34,9,28,5,16,16,39,36,23,53,15,18,6,37,13,31,18,10,896,6,8,8,7,8,8,7,8,8,8,8,7,8,7,7,7,7,6,182,8,57,70,77,3,6,6,41,5,5,6,8,23,30,28,26,5,9,6,12,12,29,11,16,20,11,6,47,17,6,5,31,4,24,5,28,66,9,6,5,11,16,1034,7,8,8,8,8,6,11,6,6,7,6,5,6,9,13,9,6,13,5,6,6,20,13,19,9,17,6,11,4,6,18,10,16,5,24,21,15],\"type\":\"scatter3d\"},{\"hovertemplate\":\"Label=3<br>RSSI=%{x}<br>SNR=%{y}<br>SECONDS=%{z}<extra></extra>\",\"legendgroup\":\"3\",\"marker\":{\"color\":\"#ab63fa\",\"symbol\":\"circle\"},\"mode\":\"markers\",\"name\":\"3\",\"scene\":\"scene\",\"showlegend\":true,\"x\":[-109,-107,-106,-109,-109,-108,-105,-111,-110,-107,-109,-104,-104,-109,-109,-108,-108,-108,-102,-107,-111,-106,-107,-109,-109,-107,-107,-108,-106,-108,-110,-106,-109,-108,-107,-109,-108,-107,-107,-108,-111,-106,-108,-108,-109,-103],\"y\":[-6.8,-11.0,-8.5,-5.5,-13.3,-7.3,-9.8,-9.8,-8.3,-5.0,-5.0,-3.3,-4.3,-10.8,-7.0,-7.3,-5.0,-7.5,-3.8,-8.3,-10.3,-3.8,-14.3,-11.0,-5.3,-10.3,-15.3,-9.8,-8.5,-12.3,-9.0,-10.3,-7.8,-11.0,-8.5,-7.0,-8.8,-8.5,-5.8,-4.8,-9.3,-8.5,-7.8,-4.8,-12.3,-14.5],\"z\":[7,8,7,7,7,6,49,50,5,14,8,8,7,12,6,5,5,6,5,32,10,7,8,48,8,8,8,6,7,7,6,7,7,5,6,6,6,6,6,5,5,15,20,7,6,5],\"type\":\"scatter3d\"}],                        {\"template\":{\"data\":{\"bar\":[{\"error_x\":{\"color\":\"#2a3f5f\"},\"error_y\":{\"color\":\"#2a3f5f\"},\"marker\":{\"line\":{\"color\":\"#E5ECF6\",\"width\":0.5},\"pattern\":{\"fillmode\":\"overlay\",\"size\":10,\"solidity\":0.2}},\"type\":\"bar\"}],\"barpolar\":[{\"marker\":{\"line\":{\"color\":\"#E5ECF6\",\"width\":0.5},\"pattern\":{\"fillmode\":\"overlay\",\"size\":10,\"solidity\":0.2}},\"type\":\"barpolar\"}],\"carpet\":[{\"aaxis\":{\"endlinecolor\":\"#2a3f5f\",\"gridcolor\":\"white\",\"linecolor\":\"white\",\"minorgridcolor\":\"white\",\"startlinecolor\":\"#2a3f5f\"},\"baxis\":{\"endlinecolor\":\"#2a3f5f\",\"gridcolor\":\"white\",\"linecolor\":\"white\",\"minorgridcolor\":\"white\",\"startlinecolor\":\"#2a3f5f\"},\"type\":\"carpet\"}],\"choropleth\":[{\"colorbar\":{\"outlinewidth\":0,\"ticks\":\"\"},\"type\":\"choropleth\"}],\"contour\":[{\"colorbar\":{\"outlinewidth\":0,\"ticks\":\"\"},\"colorscale\":[[0.0,\"#0d0887\"],[0.1111111111111111,\"#46039f\"],[0.2222222222222222,\"#7201a8\"],[0.3333333333333333,\"#9c179e\"],[0.4444444444444444,\"#bd3786\"],[0.5555555555555556,\"#d8576b\"],[0.6666666666666666,\"#ed7953\"],[0.7777777777777778,\"#fb9f3a\"],[0.8888888888888888,\"#fdca26\"],[1.0,\"#f0f921\"]],\"type\":\"contour\"}],\"contourcarpet\":[{\"colorbar\":{\"outlinewidth\":0,\"ticks\":\"\"},\"type\":\"contourcarpet\"}],\"heatmap\":[{\"colorbar\":{\"outlinewidth\":0,\"ticks\":\"\"},\"colorscale\":[[0.0,\"#0d0887\"],[0.1111111111111111,\"#46039f\"],[0.2222222222222222,\"#7201a8\"],[0.3333333333333333,\"#9c179e\"],[0.4444444444444444,\"#bd3786\"],[0.5555555555555556,\"#d8576b\"],[0.6666666666666666,\"#ed7953\"],[0.7777777777777778,\"#fb9f3a\"],[0.8888888888888888,\"#fdca26\"],[1.0,\"#f0f921\"]],\"type\":\"heatmap\"}],\"heatmapgl\":[{\"colorbar\":{\"outlinewidth\":0,\"ticks\":\"\"},\"colorscale\":[[0.0,\"#0d0887\"],[0.1111111111111111,\"#46039f\"],[0.2222222222222222,\"#7201a8\"],[0.3333333333333333,\"#9c179e\"],[0.4444444444444444,\"#bd3786\"],[0.5555555555555556,\"#d8576b\"],[0.6666666666666666,\"#ed7953\"],[0.7777777777777778,\"#fb9f3a\"],[0.8888888888888888,\"#fdca26\"],[1.0,\"#f0f921\"]],\"type\":\"heatmapgl\"}],\"histogram\":[{\"marker\":{\"pattern\":{\"fillmode\":\"overlay\",\"size\":10,\"solidity\":0.2}},\"type\":\"histogram\"}],\"histogram2d\":[{\"colorbar\":{\"outlinewidth\":0,\"ticks\":\"\"},\"colorscale\":[[0.0,\"#0d0887\"],[0.1111111111111111,\"#46039f\"],[0.2222222222222222,\"#7201a8\"],[0.3333333333333333,\"#9c179e\"],[0.4444444444444444,\"#bd3786\"],[0.5555555555555556,\"#d8576b\"],[0.6666666666666666,\"#ed7953\"],[0.7777777777777778,\"#fb9f3a\"],[0.8888888888888888,\"#fdca26\"],[1.0,\"#f0f921\"]],\"type\":\"histogram2d\"}],\"histogram2dcontour\":[{\"colorbar\":{\"outlinewidth\":0,\"ticks\":\"\"},\"colorscale\":[[0.0,\"#0d0887\"],[0.1111111111111111,\"#46039f\"],[0.2222222222222222,\"#7201a8\"],[0.3333333333333333,\"#9c179e\"],[0.4444444444444444,\"#bd3786\"],[0.5555555555555556,\"#d8576b\"],[0.6666666666666666,\"#ed7953\"],[0.7777777777777778,\"#fb9f3a\"],[0.8888888888888888,\"#fdca26\"],[1.0,\"#f0f921\"]],\"type\":\"histogram2dcontour\"}],\"mesh3d\":[{\"colorbar\":{\"outlinewidth\":0,\"ticks\":\"\"},\"type\":\"mesh3d\"}],\"parcoords\":[{\"line\":{\"colorbar\":{\"outlinewidth\":0,\"ticks\":\"\"}},\"type\":\"parcoords\"}],\"pie\":[{\"automargin\":true,\"type\":\"pie\"}],\"scatter\":[{\"marker\":{\"colorbar\":{\"outlinewidth\":0,\"ticks\":\"\"}},\"type\":\"scatter\"}],\"scatter3d\":[{\"line\":{\"colorbar\":{\"outlinewidth\":0,\"ticks\":\"\"}},\"marker\":{\"colorbar\":{\"outlinewidth\":0,\"ticks\":\"\"}},\"type\":\"scatter3d\"}],\"scattercarpet\":[{\"marker\":{\"colorbar\":{\"outlinewidth\":0,\"ticks\":\"\"}},\"type\":\"scattercarpet\"}],\"scattergeo\":[{\"marker\":{\"colorbar\":{\"outlinewidth\":0,\"ticks\":\"\"}},\"type\":\"scattergeo\"}],\"scattergl\":[{\"marker\":{\"colorbar\":{\"outlinewidth\":0,\"ticks\":\"\"}},\"type\":\"scattergl\"}],\"scattermapbox\":[{\"marker\":{\"colorbar\":{\"outlinewidth\":0,\"ticks\":\"\"}},\"type\":\"scattermapbox\"}],\"scatterpolar\":[{\"marker\":{\"colorbar\":{\"outlinewidth\":0,\"ticks\":\"\"}},\"type\":\"scatterpolar\"}],\"scatterpolargl\":[{\"marker\":{\"colorbar\":{\"outlinewidth\":0,\"ticks\":\"\"}},\"type\":\"scatterpolargl\"}],\"scatterternary\":[{\"marker\":{\"colorbar\":{\"outlinewidth\":0,\"ticks\":\"\"}},\"type\":\"scatterternary\"}],\"surface\":[{\"colorbar\":{\"outlinewidth\":0,\"ticks\":\"\"},\"colorscale\":[[0.0,\"#0d0887\"],[0.1111111111111111,\"#46039f\"],[0.2222222222222222,\"#7201a8\"],[0.3333333333333333,\"#9c179e\"],[0.4444444444444444,\"#bd3786\"],[0.5555555555555556,\"#d8576b\"],[0.6666666666666666,\"#ed7953\"],[0.7777777777777778,\"#fb9f3a\"],[0.8888888888888888,\"#fdca26\"],[1.0,\"#f0f921\"]],\"type\":\"surface\"}],\"table\":[{\"cells\":{\"fill\":{\"color\":\"#EBF0F8\"},\"line\":{\"color\":\"white\"}},\"header\":{\"fill\":{\"color\":\"#C8D4E3\"},\"line\":{\"color\":\"white\"}},\"type\":\"table\"}]},\"layout\":{\"annotationdefaults\":{\"arrowcolor\":\"#2a3f5f\",\"arrowhead\":0,\"arrowwidth\":1},\"autotypenumbers\":\"strict\",\"coloraxis\":{\"colorbar\":{\"outlinewidth\":0,\"ticks\":\"\"}},\"colorscale\":{\"diverging\":[[0,\"#8e0152\"],[0.1,\"#c51b7d\"],[0.2,\"#de77ae\"],[0.3,\"#f1b6da\"],[0.4,\"#fde0ef\"],[0.5,\"#f7f7f7\"],[0.6,\"#e6f5d0\"],[0.7,\"#b8e186\"],[0.8,\"#7fbc41\"],[0.9,\"#4d9221\"],[1,\"#276419\"]],\"sequential\":[[0.0,\"#0d0887\"],[0.1111111111111111,\"#46039f\"],[0.2222222222222222,\"#7201a8\"],[0.3333333333333333,\"#9c179e\"],[0.4444444444444444,\"#bd3786\"],[0.5555555555555556,\"#d8576b\"],[0.6666666666666666,\"#ed7953\"],[0.7777777777777778,\"#fb9f3a\"],[0.8888888888888888,\"#fdca26\"],[1.0,\"#f0f921\"]],\"sequentialminus\":[[0.0,\"#0d0887\"],[0.1111111111111111,\"#46039f\"],[0.2222222222222222,\"#7201a8\"],[0.3333333333333333,\"#9c179e\"],[0.4444444444444444,\"#bd3786\"],[0.5555555555555556,\"#d8576b\"],[0.6666666666666666,\"#ed7953\"],[0.7777777777777778,\"#fb9f3a\"],[0.8888888888888888,\"#fdca26\"],[1.0,\"#f0f921\"]]},\"colorway\":[\"#636efa\",\"#EF553B\",\"#00cc96\",\"#ab63fa\",\"#FFA15A\",\"#19d3f3\",\"#FF6692\",\"#B6E880\",\"#FF97FF\",\"#FECB52\"],\"font\":{\"color\":\"#2a3f5f\"},\"geo\":{\"bgcolor\":\"white\",\"lakecolor\":\"white\",\"landcolor\":\"#E5ECF6\",\"showlakes\":true,\"showland\":true,\"subunitcolor\":\"white\"},\"hoverlabel\":{\"align\":\"left\"},\"hovermode\":\"closest\",\"mapbox\":{\"style\":\"light\"},\"paper_bgcolor\":\"white\",\"plot_bgcolor\":\"#E5ECF6\",\"polar\":{\"angularaxis\":{\"gridcolor\":\"white\",\"linecolor\":\"white\",\"ticks\":\"\"},\"bgcolor\":\"#E5ECF6\",\"radialaxis\":{\"gridcolor\":\"white\",\"linecolor\":\"white\",\"ticks\":\"\"}},\"scene\":{\"xaxis\":{\"backgroundcolor\":\"#E5ECF6\",\"gridcolor\":\"white\",\"gridwidth\":2,\"linecolor\":\"white\",\"showbackground\":true,\"ticks\":\"\",\"zerolinecolor\":\"white\"},\"yaxis\":{\"backgroundcolor\":\"#E5ECF6\",\"gridcolor\":\"white\",\"gridwidth\":2,\"linecolor\":\"white\",\"showbackground\":true,\"ticks\":\"\",\"zerolinecolor\":\"white\"},\"zaxis\":{\"backgroundcolor\":\"#E5ECF6\",\"gridcolor\":\"white\",\"gridwidth\":2,\"linecolor\":\"white\",\"showbackground\":true,\"ticks\":\"\",\"zerolinecolor\":\"white\"}},\"shapedefaults\":{\"line\":{\"color\":\"#2a3f5f\"}},\"ternary\":{\"aaxis\":{\"gridcolor\":\"white\",\"linecolor\":\"white\",\"ticks\":\"\"},\"baxis\":{\"gridcolor\":\"white\",\"linecolor\":\"white\",\"ticks\":\"\"},\"bgcolor\":\"#E5ECF6\",\"caxis\":{\"gridcolor\":\"white\",\"linecolor\":\"white\",\"ticks\":\"\"}},\"title\":{\"x\":0.05},\"xaxis\":{\"automargin\":true,\"gridcolor\":\"white\",\"linecolor\":\"white\",\"ticks\":\"\",\"title\":{\"standoff\":15},\"zerolinecolor\":\"white\",\"zerolinewidth\":2},\"yaxis\":{\"automargin\":true,\"gridcolor\":\"white\",\"linecolor\":\"white\",\"ticks\":\"\",\"title\":{\"standoff\":15},\"zerolinecolor\":\"white\",\"zerolinewidth\":2}}},\"scene\":{\"domain\":{\"x\":[0.0,1.0],\"y\":[0.0,1.0]},\"xaxis\":{\"title\":{\"text\":\"RSSI\"}},\"yaxis\":{\"title\":{\"text\":\"SNR\"}},\"zaxis\":{\"title\":{\"text\":\"SECONDS\"}}},\"legend\":{\"title\":{\"text\":\"Label\"},\"tracegroupgap\":0},\"margin\":{\"t\":60}},                        {\"responsive\": true}                    ).then(function(){\n",
              "                            \n",
              "var gd = document.getElementById('ea9a2a40-bdd0-49f2-b2c5-0a2efd010187');\n",
              "var x = new MutationObserver(function (mutations, observer) {{\n",
              "        var display = window.getComputedStyle(gd).display;\n",
              "        if (!display || display === 'none') {{\n",
              "            console.log([gd, 'removed!']);\n",
              "            Plotly.purge(gd);\n",
              "            observer.disconnect();\n",
              "        }}\n",
              "}});\n",
              "\n",
              "// Listen for the removal of the full notebook cells\n",
              "var notebookContainer = gd.closest('#notebook-container');\n",
              "if (notebookContainer) {{\n",
              "    x.observe(notebookContainer, {childList: true});\n",
              "}}\n",
              "\n",
              "// Listen for the clearing of the current output cell\n",
              "var outputEl = gd.closest('.output');\n",
              "if (outputEl) {{\n",
              "    x.observe(outputEl, {childList: true});\n",
              "}}\n",
              "\n",
              "                        })                };                            </script>        </div>\n",
              "</body>\n",
              "</html>"
            ]
          },
          "metadata": {}
        }
      ]
    },
    {
      "cell_type": "code",
      "source": [
        "df.drop(df[df[\"SECONDS\"] > 120].index,inplace = True)"
      ],
      "metadata": {
        "id": "2mBmhPAtwlWT"
      },
      "execution_count": null,
      "outputs": []
    },
    {
      "cell_type": "code",
      "source": [
        "import plotly.express as px\n",
        "df[\"Label\"] = df[\"Label\"].astype(str)\n",
        "fig = px.scatter_3d(df, x='RSSI', y='SNR', z='SECONDS',\n",
        "              color='Label')\n",
        "fig.show()"
      ],
      "metadata": {
        "colab": {
          "base_uri": "https://localhost:8080/",
          "height": 542
        },
        "id": "5xX3izU6qLv9",
        "outputId": "112b3767-bb92-4aab-a3eb-50e83e6e49bb"
      },
      "execution_count": null,
      "outputs": [
        {
          "output_type": "display_data",
          "data": {
            "text/html": [
              "<html>\n",
              "<head><meta charset=\"utf-8\" /></head>\n",
              "<body>\n",
              "    <div>            <script src=\"https://cdnjs.cloudflare.com/ajax/libs/mathjax/2.7.5/MathJax.js?config=TeX-AMS-MML_SVG\"></script><script type=\"text/javascript\">if (window.MathJax) {MathJax.Hub.Config({SVG: {font: \"STIX-Web\"}});}</script>                <script type=\"text/javascript\">window.PlotlyConfig = {MathJaxConfig: 'local'};</script>\n",
              "        <script src=\"https://cdn.plot.ly/plotly-2.8.3.min.js\"></script>                <div id=\"aca651ce-26f6-40c8-b4e2-f22bceb09e2a\" class=\"plotly-graph-div\" style=\"height:525px; width:100%;\"></div>            <script type=\"text/javascript\">                                    window.PLOTLYENV=window.PLOTLYENV || {};                                    if (document.getElementById(\"aca651ce-26f6-40c8-b4e2-f22bceb09e2a\")) {                    Plotly.newPlot(                        \"aca651ce-26f6-40c8-b4e2-f22bceb09e2a\",                        [{\"hovertemplate\":\"Label=1<br>RSSI=%{x}<br>SNR=%{y}<br>SECONDS=%{z}<extra></extra>\",\"legendgroup\":\"1\",\"marker\":{\"color\":\"#636efa\",\"symbol\":\"circle\"},\"mode\":\"markers\",\"name\":\"1\",\"scene\":\"scene\",\"showlegend\":true,\"x\":[-115,-113,-114,-114,-115,-113,-115,-115,-114,-115,-114,-115,-117,-114,-115,-115,-115,-111,-115,-111,-113,-115,-115,-114,-115,-114,-114,-113,-114,-114,-113,-115,-114,-114,-113,-114,-115,-113,-115,-115,-114,-113,-114,-113,-115,-115,-113,-115,-115,-115,-115,-114,-114,-115,-114,-115,-114,-113,-112,-114,-114,-114,-113,-114,-115,-115,-114,-115,-114,-115,-115,-115,-112,-111,-114,-111,-113,-115,-114,-113,-115,-115,-113,-114,-113,-113,-115,-114,-115,-115,-113,-113,-114,-114,-117,-114,-114,-114,-114,-114,-114,-115,-115,-114,-114,-114,-115,-113,-114,-114,-115,-114,-115,-114,-112,-115,-114,-114,-117,-114,-114,-115,-115,-115,-115,-112,-114,-112,-114,-115,-115,-114,-115,-115,-115,-115,-113,-114,-115,-114,-114,-115,-117,-114,-114,-114,-114,-114,-114,-115,-115,-115,-115,-114,-115,-115,-115,-115,-114,-115,-115,-113,-115,-114,-114,-114,-117,-115,-113],\"y\":[-16.5,-12.5,-13.0,-11.0,-10.3,-13.3,-11.0,-10.8,-15.3,-14.3,-15.3,-13.5,-10.3,-10.8,-13.0,-11.8,-12.0,-11.5,-12.8,-10.8,-11.0,-11.5,-11.3,-12.0,-12.0,-11.5,-14.8,-15.0,-12.8,-10.8,-12.8,-14.8,-12.3,-11.5,-12.0,-11.8,-12.5,-11.0,-11.5,-12.8,-10.3,-15.8,-14.5,-12.3,-11.0,-18.0,-10.8,-11.3,-10.3,-10.5,-15.0,-13.8,-12.0,-12.3,-12.5,-10.3,-11.5,-11.0,-12.5,-10.3,-11.0,-12.0,-10.3,-15.3,-10.3,-10.0,-13.8,-11.3,-10.3,-16.8,-11.0,-11.3,-11.0,-14.5,-10.8,-11.3,-10.8,-11.8,-13.3,-11.0,-10.5,-10.8,-15.5,-17.8,-15.0,-17.3,-17.3,-11.5,-13.8,-18.3,-17.0,-14.0,-16.3,-13.8,-14.3,-13.0,-15.3,-10.3,-15.5,-16.5,-17.0,-10.8,-18.0,-14.5,-13.5,-16.5,-13.5,-16.5,-18.3,-15.8,-12.5,-12.8,-11.8,-12.3,-18.3,-11.8,-16.3,-11.3,-11.3,-18.3,-11.8,-13.5,-12.3,-13.8,-12.5,-14.0,-13.5,-16.5,-12.3,-11.3,-12.3,-12.0,-11.3,-11.8,-13.0,-11.5,-16.0,-12.5,-12.0,-12.8,-12.5,-12.5,-12.8,-12.3,-12.3,-12.3,-12.8,-12.8,-13.0,-12.0,-11.5,-12.0,-12.0,-13.0,-12.8,-13.3,-13.5,-13.3,-12.5,-12.3,-13.5,-13.5,-13.0,-11.8,-12.3,-12.3,-14.0,-12.5,-12.0],\"z\":[0,8,13,8,13,8,8,7,8,8,7,8,6,7,6,6,11,7,63,65,48,8,33,27,8,8,8,7,8,11,16,11,12,6,6,50,56,5,40,12,13,8,7,8,19,8,24,8,65,9,67,59,8,75,6,65,10,13,6,7,8,8,7,14,7,8,8,8,8,18,8,8,7,11,12,7,6,6,5,6,52,6,66,6,9,12,17,27,5,25,23,77,4,6,7,6,11,71,60,54,55,5,6,48,66,5,49,5,55,5,6,59,60,54,6,49,5,55,64,6,49,64,55,60,64,60,55,10,50,69,55,65,59,60,55,60,5,54,47,8,52,8,51,18,50,60,120,59,69,55,65,80,65,115,39,39,80,60,64,60,55,60,112,47,72,60,107,60,60],\"type\":\"scatter3d\"},{\"hovertemplate\":\"Label=0<br>RSSI=%{x}<br>SNR=%{y}<br>SECONDS=%{z}<extra></extra>\",\"legendgroup\":\"0\",\"marker\":{\"color\":\"#EF553B\",\"symbol\":\"circle\"},\"mode\":\"markers\",\"name\":\"0\",\"scene\":\"scene\",\"showlegend\":true,\"x\":[-115,-114,-111,-114,-115,-114,-115,-115,-115,-115,-115,-115,-112,-114,-114,-115,-117,-114,-111,-114,-114,-114,-113,-113,-115,-114,-115,-113,-114,-115,-114,-115,-113,-115,-115,-114,-113,-115,-115,-114,-113,-113,-112,-113,-114,-114,-115,-115,-114,-114,-112,-115,-114,-114,-113,-114,-114,-114,-115,-115,-113,-114,-114,-113,-114,-115,-115,-112,-114,-113,-112,-113,-113,-115,-115,-115,-115,-115,-112,-114,-115,-113,-114,-115,-115,-112,-113,-115,-114,-114,-115,-113,-114,-114,-114,-112,-114,-112,-115,-115,-113,-114,-113,-114,-113,-113,-114,-115,-114,-111,-114,-113,-115,-114,-114,-114,-113,-114,-115,-115,-115,-114,-113,-113,-114,-115,-114,-115,-115,-113,-115,-115,-114,-115,-115,-113,-115,-114,-114,-114,-115,-113,-114,-113,-113,-114,-114,-115,-114,-113,-113,-114,-114,-115,-114,-115,-114,-115,-113,-114,-112,-113,-113,-113,-115,-114,-114,-113,-115,-117,-115,-114,-114,-117,-114,-115,-113,-113,-113,-112,-112,-113,-113,-113,-114,-114,-112,-114,-113,-112,-115,-112,-115,-112,-115,-117,-114,-114,-114,-114,-114,-112,-115,-115,-112,-115,-115,-115,-113,-112,-115,-113,-114,-113,-115,-112,-114,-115,-113,-112,-114,-112,-114,-114,-115,-114,-113,-111,-115,-113,-113,-111,-113,-113,-113,-114,-111,-112,-115,-115,-114,-113,-114,-111,-114,-111,-115,-113,-114,-114,-114,-113,-114],\"y\":[-8.5,-4.8,-6.5,-5.8,-7.3,-9.5,-6.8,-7.5,-9.0,-8.0,-8.5,-4.5,-6.3,-6.8,-7.5,-8.5,-7.8,-6.5,-6.3,-8.3,-8.5,-4.3,-8.3,-8.3,-6.5,-7.5,-8.5,-5.5,-5.5,-7.3,-6.3,-7.8,-5.3,-6.3,-8.3,-7.0,-4.8,-7.0,-4.8,-5.8,-5.5,-5.0,-9.8,-10.0,-5.5,-6.0,-6.3,-6.8,-5.5,-5.0,-6.3,-6.8,-4.3,-4.3,-8.0,-6.0,-5.5,-6.0,-7.5,-7.0,-7.3,-4.5,-5.5,-6.5,-5.3,-7.3,-4.5,-7.0,-7.3,-6.8,-8.3,-4.8,-7.0,-5.0,-8.5,-7.5,-9.5,-8.5,-8.8,-9.5,-6.8,-10.0,-9.5,-6.3,-5.0,-7.5,-7.5,-6.5,-9.0,-4.5,-4.3,-5.3,-6.3,-6.3,-10.0,-5.8,-4.5,-7.5,-6.5,-9.0,-5.3,-7.8,-7.0,-7.5,-6.3,-6.8,-8.0,-8.3,-6.5,-6.0,-6.3,-5.0,-8.0,-6.8,-7.8,-9.5,-7.8,-10.0,-7.0,-8.0,-6.8,-4.3,-6.8,-8.5,-9.5,-8.8,-6.8,-7.5,-7.0,-8.3,-5.0,-6.8,-5.5,-4.8,-7.3,-7.8,-8.8,-8.0,-6.3,-8.3,-7.8,-5.8,-7.3,-9.5,-8.3,-6.8,-8.3,-8.0,-6.0,-8.8,-6.5,-8.8,-5.8,-7.0,-6.0,-6.8,-8.8,-9.0,-9.3,-8.5,-8.0,-7.3,-9.3,-5.5,-8.0,-7.5,-8.3,-8.3,-7.0,-7.5,-8.0,-9.0,-7.8,-8.5,-4.3,-7.0,-6.5,-7.0,-9.0,-7.3,-7.5,-9.5,-6.0,-5.8,-9.8,-5.8,-8.0,-4.8,-6.8,-7.3,-9.5,-8.8,-6.8,-9.5,-6.3,-4.3,-7.3,-8.0,-8.8,-9.8,-5.0,-8.8,-7.0,-8.8,-7.8,-6.0,-4.3,-8.8,-8.3,-8.5,-4.8,-6.8,-7.5,-7.0,-5.3,-10.0,-5.8,-8.8,-6.8,-8.3,-7.8,-6.5,-6.3,-8.3,-5.5,-5.5,-7.0,-8.5,-5.5,-5.8,-7.8,-7.0,-6.0,-7.8,-4.8,-5.0,-6.8,-6.5,-7.8,-8.3,-6.8,-5.8,-7.8,-7.8,-5.0,-6.3,-4.8,-7.5,-7.8,-7.0,-6.0,-6.3,-5.0],\"z\":[8,8,8,8,8,8,8,8,8,13,8,8,12,6,7,6,7,6,6,7,6,6,7,6,7,7,11,36,28,12,25,6,108,5,6,5,6,41,6,50,5,30,22,32,41,14,27,29,28,9,20,32,17,42,8,5,12,20,18,18,16,5,26,22,12,8,8,7,8,8,8,7,8,8,8,7,7,6,12,6,7,6,6,6,13,34,35,8,34,6,20,1,11,51,58,93,12,32,8,32,7,50,16,8,18,17,28,35,18,5,20,12,8,8,8,8,10,91,6,95,5,80,53,6,36,9,48,57,48,28,32,28,21,25,52,8,13,28,55,18,57,17,57,50,1,37,61,25,7,30,30,18,28,30,22,28,39,65,28,32,29,19,33,25,21,29,41,29,26,32,53,32,35,19,5,18,7,8,8,8,7,8,8,7,8,8,7,7,6,7,6,7,6,7,6,6,7,7,6,5,6,6,6,6,6,6,6,6,6,6,21,5,6,81,25,25,20,57,94,48,5,48,24,5,35,14,15,10,5,24,6,32,8,30,5,16,6,25,16,28,15,26,13,11,12,19,23,6,25,18,22,16,35],\"type\":\"scatter3d\"},{\"hovertemplate\":\"Label=2<br>RSSI=%{x}<br>SNR=%{y}<br>SECONDS=%{z}<extra></extra>\",\"legendgroup\":\"2\",\"marker\":{\"color\":\"#00cc96\",\"symbol\":\"circle\"},\"mode\":\"markers\",\"name\":\"2\",\"scene\":\"scene\",\"showlegend\":true,\"x\":[-113,-111,-108,-112,-113,-111,-112,-107,-113,-113,-112,-113,-114,-113,-113,-112,-113,-112,-114,-113,-112,-112,-112,-113,-111,-114,-114,-114,-112,-112,-114,-113,-114,-114,-111,-113,-111,-114,-111,-113,-113,-108,-113,-106,-111,-108,-113,-105,-108,-114,-111,-109,-112,-115,-114,-109,-112,-112,-115,-109,-108,-108,-113,-111,-114,-114,-114,-111,-108,-113,-111,-109,-114,-109,-111,-110,-111,-111,-109,-112,-111,-113,-111,-114,-109,-112,-109,-111,-113,-114,-109,-113,-111,-112,-113,-112,-110,-112,-111,-112,-108,-111,-112,-113,-112,-114,-113,-115,-115,-113,-114,-111,-113,-113,-112,-111,-111,-114,-111,-113,-114,-112,-114,-113,-113,-114,-113,-111,-113,-113,-111,-113,-114,-113,-113,-113,-114],\"y\":[-3.8,-3.8,-4.0,-0.8,-3.8,-3.5,-2.8,-1.8,-4.0,-2.0,-1.0,-3.3,-3.8,-4.3,-4.0,-5.0,-2.5,0.0,-2.3,-1.5,-1.3,-4.8,-4.0,-2.5,-1.8,-3.5,-3.8,-2.3,-3.0,-4.5,-2.8,-3.0,-3.5,-2.5,-2.5,-1.5,-1.5,-3.0,-1.8,-4.0,-0.3,-2.3,-2.3,-1.5,-1.8,-2.0,-2.3,0.3,-2.0,-2.8,-4.8,-3.8,0.0,-1.5,-1.3,-4.8,-3.3,0.5,-2.0,-2.0,-3.8,0.0,-3.8,1.0,-3.8,-1.8,-2.0,-3.0,-3.3,-1.0,-4.5,-2.8,-2.8,2.3,-2.8,-1.0,-3.0,-0.8,-3.3,-4.8,-3.0,0.8,-3.8,-3.3,2.3,-4.0,-2.0,-3.5,-1.0,-3.0,-3.3,-1.5,-4.8,1.3,-3.8,0.0,-1.3,0.5,-0.5,0.0,-3.0,-4.0,1.0,-2.5,-3.3,-2.5,-1.8,-1.0,0.5,-2.8,-2.5,-5.0,-1.0,-3.5,0.0,-3.5,-3.5,-2.0,-1.3,-3.8,-3.8,-4.0,-2.8,-4.5,-3.5,-3.0,-3.3,-2.5,-1.8,-2.0,-5.0,-3.3,-2.0,-4.5,-4.3,-3.8,-4.0],\"z\":[7,8,13,8,7,7,7,6,7,25,6,5,7,10,17,41,5,5,19,29,5,60,34,9,28,5,16,16,39,36,23,53,15,18,6,37,13,31,18,10,6,8,8,7,8,8,7,8,8,8,8,7,8,7,7,7,7,6,8,57,70,77,3,6,6,41,5,5,6,8,23,30,28,26,5,9,6,12,12,29,11,16,20,11,6,47,17,6,5,31,4,24,5,28,66,9,6,5,11,16,7,8,8,8,8,6,11,6,6,7,6,5,6,9,13,9,6,13,5,6,6,20,13,19,9,17,6,11,4,6,18,10,16,5,24,21,15],\"type\":\"scatter3d\"},{\"hovertemplate\":\"Label=3<br>RSSI=%{x}<br>SNR=%{y}<br>SECONDS=%{z}<extra></extra>\",\"legendgroup\":\"3\",\"marker\":{\"color\":\"#ab63fa\",\"symbol\":\"circle\"},\"mode\":\"markers\",\"name\":\"3\",\"scene\":\"scene\",\"showlegend\":true,\"x\":[-109,-107,-106,-109,-109,-108,-105,-111,-110,-107,-109,-104,-104,-109,-109,-108,-108,-108,-102,-107,-111,-106,-107,-109,-109,-107,-107,-108,-106,-108,-110,-106,-109,-108,-107,-109,-108,-107,-107,-108,-111,-106,-108,-108,-109,-103],\"y\":[-6.8,-11.0,-8.5,-5.5,-13.3,-7.3,-9.8,-9.8,-8.3,-5.0,-5.0,-3.3,-4.3,-10.8,-7.0,-7.3,-5.0,-7.5,-3.8,-8.3,-10.3,-3.8,-14.3,-11.0,-5.3,-10.3,-15.3,-9.8,-8.5,-12.3,-9.0,-10.3,-7.8,-11.0,-8.5,-7.0,-8.8,-8.5,-5.8,-4.8,-9.3,-8.5,-7.8,-4.8,-12.3,-14.5],\"z\":[7,8,7,7,7,6,49,50,5,14,8,8,7,12,6,5,5,6,5,32,10,7,8,48,8,8,8,6,7,7,6,7,7,5,6,6,6,6,6,5,5,15,20,7,6,5],\"type\":\"scatter3d\"}],                        {\"template\":{\"data\":{\"bar\":[{\"error_x\":{\"color\":\"#2a3f5f\"},\"error_y\":{\"color\":\"#2a3f5f\"},\"marker\":{\"line\":{\"color\":\"#E5ECF6\",\"width\":0.5},\"pattern\":{\"fillmode\":\"overlay\",\"size\":10,\"solidity\":0.2}},\"type\":\"bar\"}],\"barpolar\":[{\"marker\":{\"line\":{\"color\":\"#E5ECF6\",\"width\":0.5},\"pattern\":{\"fillmode\":\"overlay\",\"size\":10,\"solidity\":0.2}},\"type\":\"barpolar\"}],\"carpet\":[{\"aaxis\":{\"endlinecolor\":\"#2a3f5f\",\"gridcolor\":\"white\",\"linecolor\":\"white\",\"minorgridcolor\":\"white\",\"startlinecolor\":\"#2a3f5f\"},\"baxis\":{\"endlinecolor\":\"#2a3f5f\",\"gridcolor\":\"white\",\"linecolor\":\"white\",\"minorgridcolor\":\"white\",\"startlinecolor\":\"#2a3f5f\"},\"type\":\"carpet\"}],\"choropleth\":[{\"colorbar\":{\"outlinewidth\":0,\"ticks\":\"\"},\"type\":\"choropleth\"}],\"contour\":[{\"colorbar\":{\"outlinewidth\":0,\"ticks\":\"\"},\"colorscale\":[[0.0,\"#0d0887\"],[0.1111111111111111,\"#46039f\"],[0.2222222222222222,\"#7201a8\"],[0.3333333333333333,\"#9c179e\"],[0.4444444444444444,\"#bd3786\"],[0.5555555555555556,\"#d8576b\"],[0.6666666666666666,\"#ed7953\"],[0.7777777777777778,\"#fb9f3a\"],[0.8888888888888888,\"#fdca26\"],[1.0,\"#f0f921\"]],\"type\":\"contour\"}],\"contourcarpet\":[{\"colorbar\":{\"outlinewidth\":0,\"ticks\":\"\"},\"type\":\"contourcarpet\"}],\"heatmap\":[{\"colorbar\":{\"outlinewidth\":0,\"ticks\":\"\"},\"colorscale\":[[0.0,\"#0d0887\"],[0.1111111111111111,\"#46039f\"],[0.2222222222222222,\"#7201a8\"],[0.3333333333333333,\"#9c179e\"],[0.4444444444444444,\"#bd3786\"],[0.5555555555555556,\"#d8576b\"],[0.6666666666666666,\"#ed7953\"],[0.7777777777777778,\"#fb9f3a\"],[0.8888888888888888,\"#fdca26\"],[1.0,\"#f0f921\"]],\"type\":\"heatmap\"}],\"heatmapgl\":[{\"colorbar\":{\"outlinewidth\":0,\"ticks\":\"\"},\"colorscale\":[[0.0,\"#0d0887\"],[0.1111111111111111,\"#46039f\"],[0.2222222222222222,\"#7201a8\"],[0.3333333333333333,\"#9c179e\"],[0.4444444444444444,\"#bd3786\"],[0.5555555555555556,\"#d8576b\"],[0.6666666666666666,\"#ed7953\"],[0.7777777777777778,\"#fb9f3a\"],[0.8888888888888888,\"#fdca26\"],[1.0,\"#f0f921\"]],\"type\":\"heatmapgl\"}],\"histogram\":[{\"marker\":{\"pattern\":{\"fillmode\":\"overlay\",\"size\":10,\"solidity\":0.2}},\"type\":\"histogram\"}],\"histogram2d\":[{\"colorbar\":{\"outlinewidth\":0,\"ticks\":\"\"},\"colorscale\":[[0.0,\"#0d0887\"],[0.1111111111111111,\"#46039f\"],[0.2222222222222222,\"#7201a8\"],[0.3333333333333333,\"#9c179e\"],[0.4444444444444444,\"#bd3786\"],[0.5555555555555556,\"#d8576b\"],[0.6666666666666666,\"#ed7953\"],[0.7777777777777778,\"#fb9f3a\"],[0.8888888888888888,\"#fdca26\"],[1.0,\"#f0f921\"]],\"type\":\"histogram2d\"}],\"histogram2dcontour\":[{\"colorbar\":{\"outlinewidth\":0,\"ticks\":\"\"},\"colorscale\":[[0.0,\"#0d0887\"],[0.1111111111111111,\"#46039f\"],[0.2222222222222222,\"#7201a8\"],[0.3333333333333333,\"#9c179e\"],[0.4444444444444444,\"#bd3786\"],[0.5555555555555556,\"#d8576b\"],[0.6666666666666666,\"#ed7953\"],[0.7777777777777778,\"#fb9f3a\"],[0.8888888888888888,\"#fdca26\"],[1.0,\"#f0f921\"]],\"type\":\"histogram2dcontour\"}],\"mesh3d\":[{\"colorbar\":{\"outlinewidth\":0,\"ticks\":\"\"},\"type\":\"mesh3d\"}],\"parcoords\":[{\"line\":{\"colorbar\":{\"outlinewidth\":0,\"ticks\":\"\"}},\"type\":\"parcoords\"}],\"pie\":[{\"automargin\":true,\"type\":\"pie\"}],\"scatter\":[{\"marker\":{\"colorbar\":{\"outlinewidth\":0,\"ticks\":\"\"}},\"type\":\"scatter\"}],\"scatter3d\":[{\"line\":{\"colorbar\":{\"outlinewidth\":0,\"ticks\":\"\"}},\"marker\":{\"colorbar\":{\"outlinewidth\":0,\"ticks\":\"\"}},\"type\":\"scatter3d\"}],\"scattercarpet\":[{\"marker\":{\"colorbar\":{\"outlinewidth\":0,\"ticks\":\"\"}},\"type\":\"scattercarpet\"}],\"scattergeo\":[{\"marker\":{\"colorbar\":{\"outlinewidth\":0,\"ticks\":\"\"}},\"type\":\"scattergeo\"}],\"scattergl\":[{\"marker\":{\"colorbar\":{\"outlinewidth\":0,\"ticks\":\"\"}},\"type\":\"scattergl\"}],\"scattermapbox\":[{\"marker\":{\"colorbar\":{\"outlinewidth\":0,\"ticks\":\"\"}},\"type\":\"scattermapbox\"}],\"scatterpolar\":[{\"marker\":{\"colorbar\":{\"outlinewidth\":0,\"ticks\":\"\"}},\"type\":\"scatterpolar\"}],\"scatterpolargl\":[{\"marker\":{\"colorbar\":{\"outlinewidth\":0,\"ticks\":\"\"}},\"type\":\"scatterpolargl\"}],\"scatterternary\":[{\"marker\":{\"colorbar\":{\"outlinewidth\":0,\"ticks\":\"\"}},\"type\":\"scatterternary\"}],\"surface\":[{\"colorbar\":{\"outlinewidth\":0,\"ticks\":\"\"},\"colorscale\":[[0.0,\"#0d0887\"],[0.1111111111111111,\"#46039f\"],[0.2222222222222222,\"#7201a8\"],[0.3333333333333333,\"#9c179e\"],[0.4444444444444444,\"#bd3786\"],[0.5555555555555556,\"#d8576b\"],[0.6666666666666666,\"#ed7953\"],[0.7777777777777778,\"#fb9f3a\"],[0.8888888888888888,\"#fdca26\"],[1.0,\"#f0f921\"]],\"type\":\"surface\"}],\"table\":[{\"cells\":{\"fill\":{\"color\":\"#EBF0F8\"},\"line\":{\"color\":\"white\"}},\"header\":{\"fill\":{\"color\":\"#C8D4E3\"},\"line\":{\"color\":\"white\"}},\"type\":\"table\"}]},\"layout\":{\"annotationdefaults\":{\"arrowcolor\":\"#2a3f5f\",\"arrowhead\":0,\"arrowwidth\":1},\"autotypenumbers\":\"strict\",\"coloraxis\":{\"colorbar\":{\"outlinewidth\":0,\"ticks\":\"\"}},\"colorscale\":{\"diverging\":[[0,\"#8e0152\"],[0.1,\"#c51b7d\"],[0.2,\"#de77ae\"],[0.3,\"#f1b6da\"],[0.4,\"#fde0ef\"],[0.5,\"#f7f7f7\"],[0.6,\"#e6f5d0\"],[0.7,\"#b8e186\"],[0.8,\"#7fbc41\"],[0.9,\"#4d9221\"],[1,\"#276419\"]],\"sequential\":[[0.0,\"#0d0887\"],[0.1111111111111111,\"#46039f\"],[0.2222222222222222,\"#7201a8\"],[0.3333333333333333,\"#9c179e\"],[0.4444444444444444,\"#bd3786\"],[0.5555555555555556,\"#d8576b\"],[0.6666666666666666,\"#ed7953\"],[0.7777777777777778,\"#fb9f3a\"],[0.8888888888888888,\"#fdca26\"],[1.0,\"#f0f921\"]],\"sequentialminus\":[[0.0,\"#0d0887\"],[0.1111111111111111,\"#46039f\"],[0.2222222222222222,\"#7201a8\"],[0.3333333333333333,\"#9c179e\"],[0.4444444444444444,\"#bd3786\"],[0.5555555555555556,\"#d8576b\"],[0.6666666666666666,\"#ed7953\"],[0.7777777777777778,\"#fb9f3a\"],[0.8888888888888888,\"#fdca26\"],[1.0,\"#f0f921\"]]},\"colorway\":[\"#636efa\",\"#EF553B\",\"#00cc96\",\"#ab63fa\",\"#FFA15A\",\"#19d3f3\",\"#FF6692\",\"#B6E880\",\"#FF97FF\",\"#FECB52\"],\"font\":{\"color\":\"#2a3f5f\"},\"geo\":{\"bgcolor\":\"white\",\"lakecolor\":\"white\",\"landcolor\":\"#E5ECF6\",\"showlakes\":true,\"showland\":true,\"subunitcolor\":\"white\"},\"hoverlabel\":{\"align\":\"left\"},\"hovermode\":\"closest\",\"mapbox\":{\"style\":\"light\"},\"paper_bgcolor\":\"white\",\"plot_bgcolor\":\"#E5ECF6\",\"polar\":{\"angularaxis\":{\"gridcolor\":\"white\",\"linecolor\":\"white\",\"ticks\":\"\"},\"bgcolor\":\"#E5ECF6\",\"radialaxis\":{\"gridcolor\":\"white\",\"linecolor\":\"white\",\"ticks\":\"\"}},\"scene\":{\"xaxis\":{\"backgroundcolor\":\"#E5ECF6\",\"gridcolor\":\"white\",\"gridwidth\":2,\"linecolor\":\"white\",\"showbackground\":true,\"ticks\":\"\",\"zerolinecolor\":\"white\"},\"yaxis\":{\"backgroundcolor\":\"#E5ECF6\",\"gridcolor\":\"white\",\"gridwidth\":2,\"linecolor\":\"white\",\"showbackground\":true,\"ticks\":\"\",\"zerolinecolor\":\"white\"},\"zaxis\":{\"backgroundcolor\":\"#E5ECF6\",\"gridcolor\":\"white\",\"gridwidth\":2,\"linecolor\":\"white\",\"showbackground\":true,\"ticks\":\"\",\"zerolinecolor\":\"white\"}},\"shapedefaults\":{\"line\":{\"color\":\"#2a3f5f\"}},\"ternary\":{\"aaxis\":{\"gridcolor\":\"white\",\"linecolor\":\"white\",\"ticks\":\"\"},\"baxis\":{\"gridcolor\":\"white\",\"linecolor\":\"white\",\"ticks\":\"\"},\"bgcolor\":\"#E5ECF6\",\"caxis\":{\"gridcolor\":\"white\",\"linecolor\":\"white\",\"ticks\":\"\"}},\"title\":{\"x\":0.05},\"xaxis\":{\"automargin\":true,\"gridcolor\":\"white\",\"linecolor\":\"white\",\"ticks\":\"\",\"title\":{\"standoff\":15},\"zerolinecolor\":\"white\",\"zerolinewidth\":2},\"yaxis\":{\"automargin\":true,\"gridcolor\":\"white\",\"linecolor\":\"white\",\"ticks\":\"\",\"title\":{\"standoff\":15},\"zerolinecolor\":\"white\",\"zerolinewidth\":2}}},\"scene\":{\"domain\":{\"x\":[0.0,1.0],\"y\":[0.0,1.0]},\"xaxis\":{\"title\":{\"text\":\"RSSI\"}},\"yaxis\":{\"title\":{\"text\":\"SNR\"}},\"zaxis\":{\"title\":{\"text\":\"SECONDS\"}}},\"legend\":{\"title\":{\"text\":\"Label\"},\"tracegroupgap\":0},\"margin\":{\"t\":60}},                        {\"responsive\": true}                    ).then(function(){\n",
              "                            \n",
              "var gd = document.getElementById('aca651ce-26f6-40c8-b4e2-f22bceb09e2a');\n",
              "var x = new MutationObserver(function (mutations, observer) {{\n",
              "        var display = window.getComputedStyle(gd).display;\n",
              "        if (!display || display === 'none') {{\n",
              "            console.log([gd, 'removed!']);\n",
              "            Plotly.purge(gd);\n",
              "            observer.disconnect();\n",
              "        }}\n",
              "}});\n",
              "\n",
              "// Listen for the removal of the full notebook cells\n",
              "var notebookContainer = gd.closest('#notebook-container');\n",
              "if (notebookContainer) {{\n",
              "    x.observe(notebookContainer, {childList: true});\n",
              "}}\n",
              "\n",
              "// Listen for the clearing of the current output cell\n",
              "var outputEl = gd.closest('.output');\n",
              "if (outputEl) {{\n",
              "    x.observe(outputEl, {childList: true});\n",
              "}}\n",
              "\n",
              "                        })                };                            </script>        </div>\n",
              "</body>\n",
              "</html>"
            ]
          },
          "metadata": {}
        }
      ]
    },
    {
      "cell_type": "markdown",
      "source": [
        "## EVALUATION"
      ],
      "metadata": {
        "id": "Ood7swKs3DhQ"
      }
    },
    {
      "cell_type": "code",
      "source": [
        "from sklearn.metrics import silhouette_score\n",
        "score = silhouette_score(X, kmeans.labels_, metric='euclidean')\n",
        "print(\"The Silhouette Score for the model is \", round(score,1))"
      ],
      "metadata": {
        "colab": {
          "base_uri": "https://localhost:8080/"
        },
        "id": "UED2ygtj2GtV",
        "outputId": "f9d6dc4c-5f14-4e00-eddd-c458dd8afec0"
      },
      "execution_count": null,
      "outputs": [
        {
          "output_type": "stream",
          "name": "stdout",
          "text": [
            "The Silhouette Score for the model is  0.5\n"
          ]
        }
      ]
    }
  ]
}