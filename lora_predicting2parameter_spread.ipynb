{
  "nbformat": 4,
  "nbformat_minor": 0,
  "metadata": {
    "colab": {
      "provenance": [],
      "include_colab_link": true
    },
    "kernelspec": {
      "name": "python3",
      "display_name": "Python 3"
    },
    "language_info": {
      "name": "python"
    }
  },
  "cells": [
    {
      "cell_type": "markdown",
      "metadata": {
        "id": "view-in-github",
        "colab_type": "text"
      },
      "source": [
        "<a href=\"https://colab.research.google.com/github/snehaangeline/Lora/blob/main/lora_predicting2parameter_spread.ipynb\" target=\"_parent\"><img src=\"https://colab.research.google.com/assets/colab-badge.svg\" alt=\"Open In Colab\"/></a>"
      ]
    },
    {
      "cell_type": "code",
      "execution_count": null,
      "metadata": {
        "colab": {
          "base_uri": "https://localhost:8080/"
        },
        "id": "TsRlZOjDjHde",
        "outputId": "82663455-8cfd-46ba-f431-b235b7616b27"
      },
      "outputs": [
        {
          "output_type": "stream",
          "name": "stdout",
          "text": [
            "Looking in indexes: https://pypi.org/simple, https://us-python.pkg.dev/colab-wheels/public/simple/\n",
            "Collecting pandas==1.1.2\n",
            "  Downloading pandas-1.1.2-cp37-cp37m-manylinux1_x86_64.whl (10.5 MB)\n",
            "\u001b[K     |████████████████████████████████| 10.5 MB 7.6 MB/s \n",
            "\u001b[?25hRequirement already satisfied: python-dateutil>=2.7.3 in /usr/local/lib/python3.7/dist-packages (from pandas==1.1.2) (2.8.2)\n",
            "Requirement already satisfied: numpy>=1.15.4 in /usr/local/lib/python3.7/dist-packages (from pandas==1.1.2) (1.21.6)\n",
            "Requirement already satisfied: pytz>=2017.2 in /usr/local/lib/python3.7/dist-packages (from pandas==1.1.2) (2022.2.1)\n",
            "Requirement already satisfied: six>=1.5 in /usr/local/lib/python3.7/dist-packages (from python-dateutil>=2.7.3->pandas==1.1.2) (1.15.0)\n",
            "Installing collected packages: pandas\n",
            "  Attempting uninstall: pandas\n",
            "    Found existing installation: pandas 1.3.5\n",
            "    Uninstalling pandas-1.3.5:\n",
            "      Successfully uninstalled pandas-1.3.5\n",
            "Successfully installed pandas-1.1.2\n"
          ]
        }
      ],
      "source": [
        "!pip install pandas==1.1.2"
      ]
    },
    {
      "cell_type": "code",
      "source": [
        "import numpy as np\n",
        "import matplotlib.pyplot as plt\n",
        "\n",
        "import pandas as pd\n",
        "import seaborn as sns\n",
        "\n",
        "%matplotlib inline"
      ],
      "metadata": {
        "id": "29BRTbQajQDN"
      },
      "execution_count": null,
      "outputs": []
    },
    {
      "cell_type": "code",
      "source": [
        "df = pd.read_excel(\"/content/sample_data/lorawan dataset.xls\")\n",
        "df"
      ],
      "metadata": {
        "colab": {
          "base_uri": "https://localhost:8080/",
          "height": 424
        },
        "id": "2yu2lnjdjSq9",
        "outputId": "1382df9b-b1ea-4099-eae9-c74f58a1ea3e"
      },
      "execution_count": null,
      "outputs": [
        {
          "output_type": "execute_result",
          "data": {
            "text/plain": [
              "     DEVICE ID  RSSI   SNR       FREQ  SPREADING FACTOR   BW AIR TIME   \\\n",
              "0            1  -113  -3.8  868500000                11  125  00:00:00   \n",
              "1            1  -114  -4.3  868100000                11  125  00:00:08   \n",
              "2            1  -113  -3.0  868100000                 7  125  00:00:13   \n",
              "3            1  -113  -7.0  868500000                12  125  00:00:08   \n",
              "4            1  -114 -10.8  868300000                11  125  00:00:08   \n",
              "..         ...   ...   ...        ...               ...  ...       ...   \n",
              "617         50  -114  -8.3  868100000                 8  125  00:01:12   \n",
              "618         50  -113  -2.5  868100000                12  125  00:01:00   \n",
              "619         50  -115 -11.3  868100000                11  125  00:01:47   \n",
              "620         50  -115 -11.5  868100000                10  125  00:01:00   \n",
              "621         50  -115 -13.3  868100000                 9  125  00:01:00   \n",
              "\n",
              "    DISTANCE FROM GATEWAY TIME STAMP  \n",
              "0                    1 KM   00:41:46  \n",
              "1                    1 KM   00:43:17  \n",
              "2                    1 KM   01:15:31  \n",
              "3                    2 KM   01:37:45  \n",
              "4                  3.5 KM   03:58:40  \n",
              "..                    ...        ...  \n",
              "617                  3 KM   03:12:27  \n",
              "618                3.5 KM   03:52:44  \n",
              "619                  4 KM   05:24:37  \n",
              "620                  4 KM   05:30:31  \n",
              "621                  4 KM   05:54:28  \n",
              "\n",
              "[622 rows x 9 columns]"
            ],
            "text/html": [
              "\n",
              "  <div id=\"df-bd94e629-80ad-4a3a-8ed1-60c67a421c31\">\n",
              "    <div class=\"colab-df-container\">\n",
              "      <div>\n",
              "<style scoped>\n",
              "    .dataframe tbody tr th:only-of-type {\n",
              "        vertical-align: middle;\n",
              "    }\n",
              "\n",
              "    .dataframe tbody tr th {\n",
              "        vertical-align: top;\n",
              "    }\n",
              "\n",
              "    .dataframe thead th {\n",
              "        text-align: right;\n",
              "    }\n",
              "</style>\n",
              "<table border=\"1\" class=\"dataframe\">\n",
              "  <thead>\n",
              "    <tr style=\"text-align: right;\">\n",
              "      <th></th>\n",
              "      <th>DEVICE ID</th>\n",
              "      <th>RSSI</th>\n",
              "      <th>SNR</th>\n",
              "      <th>FREQ</th>\n",
              "      <th>SPREADING FACTOR</th>\n",
              "      <th>BW</th>\n",
              "      <th>AIR TIME</th>\n",
              "      <th>DISTANCE FROM GATEWAY</th>\n",
              "      <th>TIME STAMP</th>\n",
              "    </tr>\n",
              "  </thead>\n",
              "  <tbody>\n",
              "    <tr>\n",
              "      <th>0</th>\n",
              "      <td>1</td>\n",
              "      <td>-113</td>\n",
              "      <td>-3.8</td>\n",
              "      <td>868500000</td>\n",
              "      <td>11</td>\n",
              "      <td>125</td>\n",
              "      <td>00:00:00</td>\n",
              "      <td>1 KM</td>\n",
              "      <td>00:41:46</td>\n",
              "    </tr>\n",
              "    <tr>\n",
              "      <th>1</th>\n",
              "      <td>1</td>\n",
              "      <td>-114</td>\n",
              "      <td>-4.3</td>\n",
              "      <td>868100000</td>\n",
              "      <td>11</td>\n",
              "      <td>125</td>\n",
              "      <td>00:00:08</td>\n",
              "      <td>1 KM</td>\n",
              "      <td>00:43:17</td>\n",
              "    </tr>\n",
              "    <tr>\n",
              "      <th>2</th>\n",
              "      <td>1</td>\n",
              "      <td>-113</td>\n",
              "      <td>-3.0</td>\n",
              "      <td>868100000</td>\n",
              "      <td>7</td>\n",
              "      <td>125</td>\n",
              "      <td>00:00:13</td>\n",
              "      <td>1 KM</td>\n",
              "      <td>01:15:31</td>\n",
              "    </tr>\n",
              "    <tr>\n",
              "      <th>3</th>\n",
              "      <td>1</td>\n",
              "      <td>-113</td>\n",
              "      <td>-7.0</td>\n",
              "      <td>868500000</td>\n",
              "      <td>12</td>\n",
              "      <td>125</td>\n",
              "      <td>00:00:08</td>\n",
              "      <td>2 KM</td>\n",
              "      <td>01:37:45</td>\n",
              "    </tr>\n",
              "    <tr>\n",
              "      <th>4</th>\n",
              "      <td>1</td>\n",
              "      <td>-114</td>\n",
              "      <td>-10.8</td>\n",
              "      <td>868300000</td>\n",
              "      <td>11</td>\n",
              "      <td>125</td>\n",
              "      <td>00:00:08</td>\n",
              "      <td>3.5 KM</td>\n",
              "      <td>03:58:40</td>\n",
              "    </tr>\n",
              "    <tr>\n",
              "      <th>...</th>\n",
              "      <td>...</td>\n",
              "      <td>...</td>\n",
              "      <td>...</td>\n",
              "      <td>...</td>\n",
              "      <td>...</td>\n",
              "      <td>...</td>\n",
              "      <td>...</td>\n",
              "      <td>...</td>\n",
              "      <td>...</td>\n",
              "    </tr>\n",
              "    <tr>\n",
              "      <th>617</th>\n",
              "      <td>50</td>\n",
              "      <td>-114</td>\n",
              "      <td>-8.3</td>\n",
              "      <td>868100000</td>\n",
              "      <td>8</td>\n",
              "      <td>125</td>\n",
              "      <td>00:01:12</td>\n",
              "      <td>3 KM</td>\n",
              "      <td>03:12:27</td>\n",
              "    </tr>\n",
              "    <tr>\n",
              "      <th>618</th>\n",
              "      <td>50</td>\n",
              "      <td>-113</td>\n",
              "      <td>-2.5</td>\n",
              "      <td>868100000</td>\n",
              "      <td>12</td>\n",
              "      <td>125</td>\n",
              "      <td>00:01:00</td>\n",
              "      <td>3.5 KM</td>\n",
              "      <td>03:52:44</td>\n",
              "    </tr>\n",
              "    <tr>\n",
              "      <th>619</th>\n",
              "      <td>50</td>\n",
              "      <td>-115</td>\n",
              "      <td>-11.3</td>\n",
              "      <td>868100000</td>\n",
              "      <td>11</td>\n",
              "      <td>125</td>\n",
              "      <td>00:01:47</td>\n",
              "      <td>4 KM</td>\n",
              "      <td>05:24:37</td>\n",
              "    </tr>\n",
              "    <tr>\n",
              "      <th>620</th>\n",
              "      <td>50</td>\n",
              "      <td>-115</td>\n",
              "      <td>-11.5</td>\n",
              "      <td>868100000</td>\n",
              "      <td>10</td>\n",
              "      <td>125</td>\n",
              "      <td>00:01:00</td>\n",
              "      <td>4 KM</td>\n",
              "      <td>05:30:31</td>\n",
              "    </tr>\n",
              "    <tr>\n",
              "      <th>621</th>\n",
              "      <td>50</td>\n",
              "      <td>-115</td>\n",
              "      <td>-13.3</td>\n",
              "      <td>868100000</td>\n",
              "      <td>9</td>\n",
              "      <td>125</td>\n",
              "      <td>00:01:00</td>\n",
              "      <td>4 KM</td>\n",
              "      <td>05:54:28</td>\n",
              "    </tr>\n",
              "  </tbody>\n",
              "</table>\n",
              "<p>622 rows × 9 columns</p>\n",
              "</div>\n",
              "      <button class=\"colab-df-convert\" onclick=\"convertToInteractive('df-bd94e629-80ad-4a3a-8ed1-60c67a421c31')\"\n",
              "              title=\"Convert this dataframe to an interactive table.\"\n",
              "              style=\"display:none;\">\n",
              "        \n",
              "  <svg xmlns=\"http://www.w3.org/2000/svg\" height=\"24px\"viewBox=\"0 0 24 24\"\n",
              "       width=\"24px\">\n",
              "    <path d=\"M0 0h24v24H0V0z\" fill=\"none\"/>\n",
              "    <path d=\"M18.56 5.44l.94 2.06.94-2.06 2.06-.94-2.06-.94-.94-2.06-.94 2.06-2.06.94zm-11 1L8.5 8.5l.94-2.06 2.06-.94-2.06-.94L8.5 2.5l-.94 2.06-2.06.94zm10 10l.94 2.06.94-2.06 2.06-.94-2.06-.94-.94-2.06-.94 2.06-2.06.94z\"/><path d=\"M17.41 7.96l-1.37-1.37c-.4-.4-.92-.59-1.43-.59-.52 0-1.04.2-1.43.59L10.3 9.45l-7.72 7.72c-.78.78-.78 2.05 0 2.83L4 21.41c.39.39.9.59 1.41.59.51 0 1.02-.2 1.41-.59l7.78-7.78 2.81-2.81c.8-.78.8-2.07 0-2.86zM5.41 20L4 18.59l7.72-7.72 1.47 1.35L5.41 20z\"/>\n",
              "  </svg>\n",
              "      </button>\n",
              "      \n",
              "  <style>\n",
              "    .colab-df-container {\n",
              "      display:flex;\n",
              "      flex-wrap:wrap;\n",
              "      gap: 12px;\n",
              "    }\n",
              "\n",
              "    .colab-df-convert {\n",
              "      background-color: #E8F0FE;\n",
              "      border: none;\n",
              "      border-radius: 50%;\n",
              "      cursor: pointer;\n",
              "      display: none;\n",
              "      fill: #1967D2;\n",
              "      height: 32px;\n",
              "      padding: 0 0 0 0;\n",
              "      width: 32px;\n",
              "    }\n",
              "\n",
              "    .colab-df-convert:hover {\n",
              "      background-color: #E2EBFA;\n",
              "      box-shadow: 0px 1px 2px rgba(60, 64, 67, 0.3), 0px 1px 3px 1px rgba(60, 64, 67, 0.15);\n",
              "      fill: #174EA6;\n",
              "    }\n",
              "\n",
              "    [theme=dark] .colab-df-convert {\n",
              "      background-color: #3B4455;\n",
              "      fill: #D2E3FC;\n",
              "    }\n",
              "\n",
              "    [theme=dark] .colab-df-convert:hover {\n",
              "      background-color: #434B5C;\n",
              "      box-shadow: 0px 1px 3px 1px rgba(0, 0, 0, 0.15);\n",
              "      filter: drop-shadow(0px 1px 2px rgba(0, 0, 0, 0.3));\n",
              "      fill: #FFFFFF;\n",
              "    }\n",
              "  </style>\n",
              "\n",
              "      <script>\n",
              "        const buttonEl =\n",
              "          document.querySelector('#df-bd94e629-80ad-4a3a-8ed1-60c67a421c31 button.colab-df-convert');\n",
              "        buttonEl.style.display =\n",
              "          google.colab.kernel.accessAllowed ? 'block' : 'none';\n",
              "\n",
              "        async function convertToInteractive(key) {\n",
              "          const element = document.querySelector('#df-bd94e629-80ad-4a3a-8ed1-60c67a421c31');\n",
              "          const dataTable =\n",
              "            await google.colab.kernel.invokeFunction('convertToInteractive',\n",
              "                                                     [key], {});\n",
              "          if (!dataTable) return;\n",
              "\n",
              "          const docLinkHtml = 'Like what you see? Visit the ' +\n",
              "            '<a target=\"_blank\" href=https://colab.research.google.com/notebooks/data_table.ipynb>data table notebook</a>'\n",
              "            + ' to learn more about interactive tables.';\n",
              "          element.innerHTML = '';\n",
              "          dataTable['output_type'] = 'display_data';\n",
              "          await google.colab.output.renderOutput(dataTable, element);\n",
              "          const docLink = document.createElement('div');\n",
              "          docLink.innerHTML = docLinkHtml;\n",
              "          element.appendChild(docLink);\n",
              "        }\n",
              "      </script>\n",
              "    </div>\n",
              "  </div>\n",
              "  "
            ]
          },
          "metadata": {},
          "execution_count": 4
        }
      ]
    },
    {
      "cell_type": "markdown",
      "source": [
        "**data preproceesing**"
      ],
      "metadata": {
        "id": "3F6KnUcco0Xh"
      }
    },
    {
      "cell_type": "code",
      "source": [
        "df.isnull().sum()"
      ],
      "metadata": {
        "colab": {
          "base_uri": "https://localhost:8080/"
        },
        "id": "nXfSgnWbjViF",
        "outputId": "0eab035a-f84b-459f-d055-34a0a2da0bfd"
      },
      "execution_count": null,
      "outputs": [
        {
          "output_type": "execute_result",
          "data": {
            "text/plain": [
              "DEVICE ID                0\n",
              "RSSI                     0\n",
              "SNR                      0\n",
              "FREQ                     0\n",
              "SPREADING FACTOR         0\n",
              "BW                       0\n",
              "AIR TIME                 0\n",
              "DISTANCE FROM GATEWAY    0\n",
              "TIME STAMP               0\n",
              "dtype: int64"
            ]
          },
          "metadata": {},
          "execution_count": 5
        }
      ]
    },
    {
      "cell_type": "code",
      "source": [
        "df = df.rename(columns={\"SPREADING FACTOR\":\"SPREAD\",\"DEVICE ID\":\"ID\",'AIR TIME ':\"TIME\",\"DISTANCE FROM GATEWAY\":\"DGATEWAY\"})"
      ],
      "metadata": {
        "id": "Kc37PegOjYea"
      },
      "execution_count": null,
      "outputs": []
    },
    {
      "cell_type": "code",
      "source": [
        "df.drop((['ID',\"DGATEWAY\",\"TIME\",\"BW\"]), axis=1, inplace=True)"
      ],
      "metadata": {
        "id": "0jw5W8uRk-eF"
      },
      "execution_count": null,
      "outputs": []
    },
    {
      "cell_type": "code",
      "source": [
        "df.drop(([\"TIME STAMP\"]), axis=1, inplace=True)"
      ],
      "metadata": {
        "id": "tnHzpnFsHqWe"
      },
      "execution_count": null,
      "outputs": []
    },
    {
      "cell_type": "code",
      "source": [
        "df.columns"
      ],
      "metadata": {
        "colab": {
          "base_uri": "https://localhost:8080/"
        },
        "id": "ddEgsNQeHiQd",
        "outputId": "c901df45-3b45-4138-deb7-cab7bf08e0d3"
      },
      "execution_count": null,
      "outputs": [
        {
          "output_type": "execute_result",
          "data": {
            "text/plain": [
              "Index(['RSSI', 'SNR', 'FREQ', 'SPREAD'], dtype='object')"
            ]
          },
          "metadata": {},
          "execution_count": 9
        }
      ]
    },
    {
      "cell_type": "code",
      "source": [
        "df.drop((['FREQ']), axis=1, inplace=True)"
      ],
      "metadata": {
        "id": "XHN9nI9zpV7A"
      },
      "execution_count": null,
      "outputs": []
    },
    {
      "cell_type": "markdown",
      "source": [
        "**visualisation only selected features** ---RSSI,SNR,SPREAD"
      ],
      "metadata": {
        "id": "Be2ySBrKpiy6"
      }
    },
    {
      "cell_type": "code",
      "source": [
        "import seaborn as sb"
      ],
      "metadata": {
        "id": "6pVuT54hjmzk"
      },
      "execution_count": null,
      "outputs": []
    },
    {
      "cell_type": "code",
      "source": [
        "sb.pairplot(df)"
      ],
      "metadata": {
        "colab": {
          "base_uri": "https://localhost:8080/",
          "height": 567
        },
        "id": "cvPgvuylkz8u",
        "outputId": "b44c0fcd-f1c8-4250-9d4a-f2bd66bf7cf2"
      },
      "execution_count": null,
      "outputs": [
        {
          "output_type": "execute_result",
          "data": {
            "text/plain": [
              "<seaborn.axisgrid.PairGrid at 0x7f6c65159f10>"
            ]
          },
          "metadata": {},
          "execution_count": 12
        },
        {
          "output_type": "display_data",
          "data": {
            "text/plain": [
              "<Figure size 540x540 with 12 Axes>"
            ],
            "image/png": "[encoded data removed]"
          },
          "metadata": {
            "needs_background": "light"
          }
        }
      ]
    },
    {
      "cell_type": "code",
      "source": [
        "df.corr()"
      ],
      "metadata": {
        "colab": {
          "base_uri": "https://localhost:8080/",
          "height": 143
        },
        "id": "kyBP4MD_l0K4",
        "outputId": "f5013c13-eb96-4436-8c6c-bef15bd8b668"
      },
      "execution_count": null,
      "outputs": [
        {
          "output_type": "execute_result",
          "data": {
            "text/plain": [
              "            RSSI       SNR    SPREAD\n",
              "RSSI    1.000000  0.188616  0.029734\n",
              "SNR     0.188616  1.000000 -0.433228\n",
              "SPREAD  0.029734 -0.433228  1.000000"
            ],
            "text/html": [
              "\n",
              "  <div id=\"df-4e4af105-e430-46b7-a345-8c729b14dea5\">\n",
              "    <div class=\"colab-df-container\">\n",
              "      <div>\n",
              "<style scoped>\n",
              "    .dataframe tbody tr th:only-of-type {\n",
              "        vertical-align: middle;\n",
              "    }\n",
              "\n",
              "    .dataframe tbody tr th {\n",
              "        vertical-align: top;\n",
              "    }\n",
              "\n",
              "    .dataframe thead th {\n",
              "        text-align: right;\n",
              "    }\n",
              "</style>\n",
              "<table border=\"1\" class=\"dataframe\">\n",
              "  <thead>\n",
              "    <tr style=\"text-align: right;\">\n",
              "      <th></th>\n",
              "      <th>RSSI</th>\n",
              "      <th>SNR</th>\n",
              "      <th>SPREAD</th>\n",
              "    </tr>\n",
              "  </thead>\n",
              "  <tbody>\n",
              "    <tr>\n",
              "      <th>RSSI</th>\n",
              "      <td>1.000000</td>\n",
              "      <td>0.188616</td>\n",
              "      <td>0.029734</td>\n",
              "    </tr>\n",
              "    <tr>\n",
              "      <th>SNR</th>\n",
              "      <td>0.188616</td>\n",
              "      <td>1.000000</td>\n",
              "      <td>-0.433228</td>\n",
              "    </tr>\n",
              "    <tr>\n",
              "      <th>SPREAD</th>\n",
              "      <td>0.029734</td>\n",
              "      <td>-0.433228</td>\n",
              "      <td>1.000000</td>\n",
              "    </tr>\n",
              "  </tbody>\n",
              "</table>\n",
              "</div>\n",
              "      <button class=\"colab-df-convert\" onclick=\"convertToInteractive('df-4e4af105-e430-46b7-a345-8c729b14dea5')\"\n",
              "              title=\"Convert this dataframe to an interactive table.\"\n",
              "              style=\"display:none;\">\n",
              "        \n",
              "  <svg xmlns=\"http://www.w3.org/2000/svg\" height=\"24px\"viewBox=\"0 0 24 24\"\n",
              "       width=\"24px\">\n",
              "    <path d=\"M0 0h24v24H0V0z\" fill=\"none\"/>\n",
              "    <path d=\"M18.56 5.44l.94 2.06.94-2.06 2.06-.94-2.06-.94-.94-2.06-.94 2.06-2.06.94zm-11 1L8.5 8.5l.94-2.06 2.06-.94-2.06-.94L8.5 2.5l-.94 2.06-2.06.94zm10 10l.94 2.06.94-2.06 2.06-.94-2.06-.94-.94-2.06-.94 2.06-2.06.94z\"/><path d=\"M17.41 7.96l-1.37-1.37c-.4-.4-.92-.59-1.43-.59-.52 0-1.04.2-1.43.59L10.3 9.45l-7.72 7.72c-.78.78-.78 2.05 0 2.83L4 21.41c.39.39.9.59 1.41.59.51 0 1.02-.2 1.41-.59l7.78-7.78 2.81-2.81c.8-.78.8-2.07 0-2.86zM5.41 20L4 18.59l7.72-7.72 1.47 1.35L5.41 20z\"/>\n",
              "  </svg>\n",
              "      </button>\n",
              "      \n",
              "  <style>\n",
              "    .colab-df-container {\n",
              "      display:flex;\n",
              "      flex-wrap:wrap;\n",
              "      gap: 12px;\n",
              "    }\n",
              "\n",
              "    .colab-df-convert {\n",
              "      background-color: #E8F0FE;\n",
              "      border: none;\n",
              "      border-radius: 50%;\n",
              "      cursor: pointer;\n",
              "      display: none;\n",
              "      fill: #1967D2;\n",
              "      height: 32px;\n",
              "      padding: 0 0 0 0;\n",
              "      width: 32px;\n",
              "    }\n",
              "\n",
              "    .colab-df-convert:hover {\n",
              "      background-color: #E2EBFA;\n",
              "      box-shadow: 0px 1px 2px rgba(60, 64, 67, 0.3), 0px 1px 3px 1px rgba(60, 64, 67, 0.15);\n",
              "      fill: #174EA6;\n",
              "    }\n",
              "\n",
              "    [theme=dark] .colab-df-convert {\n",
              "      background-color: #3B4455;\n",
              "      fill: #D2E3FC;\n",
              "    }\n",
              "\n",
              "    [theme=dark] .colab-df-convert:hover {\n",
              "      background-color: #434B5C;\n",
              "      box-shadow: 0px 1px 3px 1px rgba(0, 0, 0, 0.15);\n",
              "      filter: drop-shadow(0px 1px 2px rgba(0, 0, 0, 0.3));\n",
              "      fill: #FFFFFF;\n",
              "    }\n",
              "  </style>\n",
              "\n",
              "      <script>\n",
              "        const buttonEl =\n",
              "          document.querySelector('#df-4e4af105-e430-46b7-a345-8c729b14dea5 button.colab-df-convert');\n",
              "        buttonEl.style.display =\n",
              "          google.colab.kernel.accessAllowed ? 'block' : 'none';\n",
              "\n",
              "        async function convertToInteractive(key) {\n",
              "          const element = document.querySelector('#df-4e4af105-e430-46b7-a345-8c729b14dea5');\n",
              "          const dataTable =\n",
              "            await google.colab.kernel.invokeFunction('convertToInteractive',\n",
              "                                                     [key], {});\n",
              "          if (!dataTable) return;\n",
              "\n",
              "          const docLinkHtml = 'Like what you see? Visit the ' +\n",
              "            '<a target=\"_blank\" href=https://colab.research.google.com/notebooks/data_table.ipynb>data table notebook</a>'\n",
              "            + ' to learn more about interactive tables.';\n",
              "          element.innerHTML = '';\n",
              "          dataTable['output_type'] = 'display_data';\n",
              "          await google.colab.output.renderOutput(dataTable, element);\n",
              "          const docLink = document.createElement('div');\n",
              "          docLink.innerHTML = docLinkHtml;\n",
              "          element.appendChild(docLink);\n",
              "        }\n",
              "      </script>\n",
              "    </div>\n",
              "  </div>\n",
              "  "
            ]
          },
          "metadata": {},
          "execution_count": 13
        }
      ]
    },
    {
      "cell_type": "code",
      "source": [
        "sns.heatmap(df.corr(), annot=True,vmin=-1,vmax=1,center=0,cmap='PuOr_r')"
      ],
      "metadata": {
        "colab": {
          "base_uri": "https://localhost:8080/",
          "height": 286
        },
        "id": "VW1_aKuUmO73",
        "outputId": "5c1a2c01-fc09-45bf-d26b-6efdf1879a20"
      },
      "execution_count": null,
      "outputs": [
        {
          "output_type": "execute_result",
          "data": {
            "text/plain": [
              "<matplotlib.axes._subplots.AxesSubplot at 0x7f6c619c1710>"
            ]
          },
          "metadata": {},
          "execution_count": 14
        },
        {
          "output_type": "display_data",
          "data": {
            "text/plain": [
              "<Figure size 432x288 with 2 Axes>"
            ],
            "image/png": "[encoded data removed]"
          },
          "metadata": {
            "needs_background": "light"
          }
        }
      ]
    },
    {
      "cell_type": "markdown",
      "source": [
        "**import model**"
      ],
      "metadata": {
        "id": "_dt9Vs3DLqgj"
      }
    },
    {
      "cell_type": "code",
      "source": [
        "X = pd.DataFrame(np.c_[df['RSSI'],df['SNR']], columns = ['SNR','RSSI']).to_numpy()\n",
        "X"
      ],
      "metadata": {
        "colab": {
          "base_uri": "https://localhost:8080/"
        },
        "id": "m72ulrXQjaZM",
        "outputId": "5815fb67-c438-4b65-fecd-9a6c16bc0249"
      },
      "execution_count": null,
      "outputs": [
        {
          "output_type": "execute_result",
          "data": {
            "text/plain": [
              "array([[-113. ,   -3.8],\n",
              "       [-114. ,   -4.3],\n",
              "       [-113. ,   -3. ],\n",
              "       ...,\n",
              "       [-115. ,  -11.3],\n",
              "       [-115. ,  -11.5],\n",
              "       [-115. ,  -13.3]])"
            ]
          },
          "metadata": {},
          "execution_count": 15
        }
      ]
    },
    {
      "cell_type": "code",
      "source": [
        "Y = df['SPREAD'].to_numpy()\n",
        "Y"
      ],
      "metadata": {
        "colab": {
          "base_uri": "https://localhost:8080/"
        },
        "id": "iTjXtEWsjkf7",
        "outputId": "f6843dd4-fc46-4cad-c433-7a06beaffc78"
      },
      "execution_count": null,
      "outputs": [
        {
          "output_type": "execute_result",
          "data": {
            "text/plain": [
              "array([11, 11,  7, 12, 11, 10,  9,  7, 12, 11, 10, 10, 12,  8, 12, 10, 12,\n",
              "       11,  7,  7,  7,  7, 12, 11, 12,  8,  8, 12,  9,  8,  7, 12,  7, 12,\n",
              "       12,  9,  8, 11, 12,  9,  9,  7,  8,  9,  8, 11, 10,  9, 10, 11,  9,\n",
              "        9,  7,  8, 10, 10,  9, 12, 11, 11,  9,  7,  7, 12, 11, 12,  8,  7,\n",
              "       12, 10,  8,  7, 12,  9,  8, 12, 11,  8,  8,  8, 12,  8, 11, 10,  8,\n",
              "        8,  8,  7, 12, 11, 11, 10,  9,  7,  8, 12, 11, 10,  9,  9,  9, 11,\n",
              "       10,  9,  7, 11,  9, 12, 11,  9, 12, 12,  9,  9,  8,  8,  7, 12, 12,\n",
              "       10, 12, 12,  9, 10, 12,  9,  7, 12, 10,  7,  7, 10,  8,  8, 12, 12,\n",
              "       12, 10, 12,  9,  8,  9,  8, 10, 12, 12, 11, 11,  8,  7, 12, 12, 12,\n",
              "        7,  9, 12, 12,  8,  7, 12, 12,  9,  8,  9,  9,  7, 12,  8, 12,  9,\n",
              "        9, 11, 11,  9,  7, 12, 12, 10,  7,  7,  7, 12, 10,  9,  8, 12, 12,\n",
              "        9,  9,  9, 11,  9, 10, 12, 10,  9, 12,  9,  8,  7,  7, 12, 11,  8,\n",
              "        8, 10,  8,  9,  7,  8, 10,  8, 10,  9, 12, 12, 11, 11,  9, 12, 12,\n",
              "        8, 12,  7,  9, 12, 10,  8, 12,  9, 12, 11, 11, 11, 11,  9,  9,  7,\n",
              "        8, 11,  9, 11,  8, 12,  7,  9,  8, 10, 11, 11, 12,  9,  9,  8,  8,\n",
              "        8, 12,  7, 12,  8,  7,  8,  9, 12, 12, 11,  9,  7,  9, 12, 11, 10,\n",
              "        9,  7,  8,  7, 12, 10, 12,  8, 10,  8,  8, 12,  9, 12, 11, 11, 11,\n",
              "       10,  9,  9, 11,  8, 12,  8,  8, 12,  7, 12,  9,  7,  9,  9,  7,  7,\n",
              "       12, 12, 10, 12, 12, 11,  9, 11, 12,  8,  7,  7, 12, 11, 10, 12, 12,\n",
              "       10, 10,  9,  9,  8, 12, 11, 11,  9, 12,  9,  8, 12, 11, 10,  7,  9,\n",
              "        8, 12, 11,  9,  7,  8, 12,  7,  9, 11,  7, 12, 12, 12, 12,  7,  8,\n",
              "       12, 11, 11, 10,  8,  8, 12, 11, 11,  9, 10,  9,  8,  8, 12,  7,  7,\n",
              "        7,  7,  9,  8, 12, 10,  8,  8, 11,  9,  9, 10,  9, 12, 11, 10, 12,\n",
              "        9,  9, 12, 11, 10,  8, 12, 10,  9,  8, 12, 12, 11, 11, 10,  7,  9,\n",
              "       12, 12, 12, 12, 11,  8,  7,  7,  7, 12, 11, 11,  8, 12, 12, 11, 10,\n",
              "       10, 10, 10,  9,  8, 12,  9, 10,  8, 12,  8,  9, 12, 11, 11, 10, 10,\n",
              "        8, 12, 10,  9, 12, 12, 11,  9,  7,  7, 11,  9,  8, 12, 12, 10, 12,\n",
              "       11, 11, 10,  9,  9,  7,  9, 12, 11, 10,  9,  7,  7, 12, 12,  9,  9,\n",
              "       12,  9, 11,  7,  8,  8, 12, 10,  9, 12,  8,  9,  9,  7,  9,  8, 11,\n",
              "       12, 10,  9,  9,  8, 12, 12,  7,  9, 10, 12,  9, 11, 11,  7, 12, 12,\n",
              "       11,  8,  9,  7, 12, 11,  9,  7,  7,  7,  7, 12, 12, 12,  9, 12, 12,\n",
              "        8,  9, 12,  8,  7,  9,  8,  7, 12, 11,  7, 12, 12,  9,  8, 12, 11,\n",
              "       10,  9,  9, 12,  9,  8,  8, 12, 11, 12, 12,  7,  9,  8, 12, 11, 10,\n",
              "        9,  7,  7, 12, 11, 10,  9, 11,  8,  8, 12, 12, 11, 10,  7, 12, 11,\n",
              "       11,  8, 11,  8,  8, 11, 11,  8, 12, 11,  8,  8,  8,  9, 12, 10,  8,\n",
              "        7,  8, 11,  9,  8,  8, 10,  9,  8,  9, 10,  8,  7,  7, 12, 11, 11,\n",
              "       11,  7,  8,  8,  9,  8, 12, 11, 10,  9])"
            ]
          },
          "metadata": {},
          "execution_count": 16
        }
      ]
    },
    {
      "cell_type": "code",
      "source": [
        "from sklearn.model_selection import train_test_split\n",
        "X_train, X_test, Y_train, Y_test = train_test_split(X, Y, test_size = 0.2, random_state=5)"
      ],
      "metadata": {
        "id": "GezuiqV8mtfF"
      },
      "execution_count": null,
      "outputs": []
    },
    {
      "cell_type": "code",
      "source": [
        "from sklearn.linear_model import LinearRegression\n",
        "lr = LinearRegression()\n",
        "lr.fit(X,Y)"
      ],
      "metadata": {
        "colab": {
          "base_uri": "https://localhost:8080/"
        },
        "id": "lRGTwG9DGi4J",
        "outputId": "8af2df8a-90d6-4a4e-f30a-41b365f1d403"
      },
      "execution_count": null,
      "outputs": [
        {
          "output_type": "execute_result",
          "data": {
            "text/plain": [
              "LinearRegression()"
            ]
          },
          "metadata": {},
          "execution_count": 18
        }
      ]
    },
    {
      "cell_type": "code",
      "source": [
        "lr.score(X,Y)"
      ],
      "metadata": {
        "colab": {
          "base_uri": "https://localhost:8080/"
        },
        "id": "BOXaRuTRNFXB",
        "outputId": "24d3c0ed-4b67-4531-d1dc-48d3ab7ccb69"
      },
      "execution_count": null,
      "outputs": [
        {
          "output_type": "execute_result",
          "data": {
            "text/plain": [
              "0.20056492496222267"
            ]
          },
          "metadata": {},
          "execution_count": 19
        }
      ]
    },
    {
      "cell_type": "code",
      "source": [
        "y_pred = lr.predict(X_test)"
      ],
      "metadata": {
        "id": "xmxPj4DJMhZ9"
      },
      "execution_count": null,
      "outputs": []
    },
    {
      "cell_type": "code",
      "source": [
        "lr.predict([[-113.,-3.8]])"
      ],
      "metadata": {
        "colab": {
          "base_uri": "https://localhost:8080/"
        },
        "id": "GvwtXuN4NOPC",
        "outputId": "a022a14b-f3b9-49cc-de4e-2910ad4b2a4e"
      },
      "execution_count": null,
      "outputs": [
        {
          "output_type": "execute_result",
          "data": {
            "text/plain": [
              "array([8.94218571])"
            ]
          },
          "metadata": {},
          "execution_count": 21
        }
      ]
    },
    {
      "cell_type": "markdown",
      "source": [
        "**predicting new feature**"
      ],
      "metadata": {
        "id": "3XZNkn5uOp_S"
      }
    },
    {
      "cell_type": "code",
      "source": [
        "new_spreadfactor=np.array([[-115,-8]])\n",
        "lr.predict(new_spreadfactor)"
      ],
      "metadata": {
        "colab": {
          "base_uri": "https://localhost:8080/"
        },
        "id": "g0zf3_M5ORor",
        "outputId": "1cab450a-1169-4d91-cd36-4465cfeffba0"
      },
      "execution_count": null,
      "outputs": [
        {
          "output_type": "execute_result",
          "data": {
            "text/plain": [
              "array([9.66118288])"
            ]
          },
          "metadata": {},
          "execution_count": 22
        }
      ]
    },
    {
      "cell_type": "markdown",
      "source": [
        "polynomial regression"
      ],
      "metadata": {
        "id": "uqgtmv3FOYUK"
      }
    },
    {
      "cell_type": "code",
      "source": [
        "from sklearn.preprocessing import PolynomialFeatures\n"
      ],
      "metadata": {
        "id": "LW4Lu0hbFYrv"
      },
      "execution_count": null,
      "outputs": []
    },
    {
      "cell_type": "code",
      "source": [
        "pr=PolynomialFeatures(degree=4)\n",
        "pr"
      ],
      "metadata": {
        "colab": {
          "base_uri": "https://localhost:8080/"
        },
        "id": "yZiwBIp9FcP_",
        "outputId": "769aad5e-1d38-436d-f0e7-b97cf7e21cc5"
      },
      "execution_count": null,
      "outputs": [
        {
          "output_type": "execute_result",
          "data": {
            "text/plain": [
              "PolynomialFeatures(degree=4)"
            ]
          },
          "metadata": {},
          "execution_count": 24
        }
      ]
    },
    {
      "cell_type": "code",
      "source": [
        "X_pr=pr.fit_transform(X)"
      ],
      "metadata": {
        "id": "Eaw3ud9GFivV"
      },
      "execution_count": null,
      "outputs": []
    },
    {
      "cell_type": "code",
      "source": [
        "X.shape"
      ],
      "metadata": {
        "colab": {
          "base_uri": "https://localhost:8080/"
        },
        "id": "ECdaa8e3IFnm",
        "outputId": "bdf76561-c9a8-499b-9e6b-3f36952d8821"
      },
      "execution_count": null,
      "outputs": [
        {
          "output_type": "execute_result",
          "data": {
            "text/plain": [
              "(622, 2)"
            ]
          },
          "metadata": {},
          "execution_count": 26
        }
      ]
    },
    {
      "cell_type": "code",
      "source": [
        "X_pr.shape"
      ],
      "metadata": {
        "colab": {
          "base_uri": "https://localhost:8080/"
        },
        "id": "0GaPqr0rIAJU",
        "outputId": "d1223afa-4cf2-453c-dad8-fe6c5cadd75e"
      },
      "execution_count": null,
      "outputs": [
        {
          "output_type": "execute_result",
          "data": {
            "text/plain": [
              "(622, 15)"
            ]
          },
          "metadata": {},
          "execution_count": 27
        }
      ]
    },
    {
      "cell_type": "code",
      "source": [
        "lr_p = LinearRegression()\n",
        "lr_p.fit(X_pr,Y)\n",
        "lr_p.score(X_pr, Y)"
      ],
      "metadata": {
        "colab": {
          "base_uri": "https://localhost:8080/"
        },
        "id": "-HWW_dDGF45t",
        "outputId": "5a9329e1-e826-4690-ae85-bf134855fa76"
      },
      "execution_count": null,
      "outputs": [
        {
          "output_type": "execute_result",
          "data": {
            "text/plain": [
              "0.2543950719247656"
            ]
          },
          "metadata": {},
          "execution_count": 28
        }
      ]
    },
    {
      "cell_type": "code",
      "source": [
        "y_pred = lr_p.predict(X_pr)"
      ],
      "metadata": {
        "id": "6Rl9iw3PF-Dl"
      },
      "execution_count": null,
      "outputs": []
    },
    {
      "cell_type": "code",
      "source": [
        "lr_p.predict(pr.fit_transform([[-113.,-3.8]]))"
      ],
      "metadata": {
        "colab": {
          "base_uri": "https://localhost:8080/"
        },
        "id": "U3ZRSe8GNhXr",
        "outputId": "89c1d1e1-bc6c-4f1f-9c15-f488de6d319d"
      },
      "execution_count": null,
      "outputs": [
        {
          "output_type": "execute_result",
          "data": {
            "text/plain": [
              "array([8.58292818])"
            ]
          },
          "metadata": {},
          "execution_count": 31
        }
      ]
    },
    {
      "cell_type": "markdown",
      "source": [
        "**predicting new feature**"
      ],
      "metadata": {
        "id": "6jHYRYQop1us"
      }
    },
    {
      "cell_type": "code",
      "source": [
        "new_spreadfactor=np.array([[-115,-8]])\n",
        "lr_p.predict(pr.fit_transform(new_spreadfactor))"
      ],
      "metadata": {
        "id": "O3roNWIan48e",
        "colab": {
          "base_uri": "https://localhost:8080/"
        },
        "outputId": "42582d3f-d904-451e-f42c-1a9019c096c8"
      },
      "execution_count": null,
      "outputs": [
        {
          "output_type": "execute_result",
          "data": {
            "text/plain": [
              "array([9.50249388])"
            ]
          },
          "metadata": {},
          "execution_count": 35
        }
      ]
    }
  ]
}